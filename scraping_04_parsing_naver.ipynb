{
 "cells": [
  {
   "cell_type": "code",
   "execution_count": 2,
   "id": "d1030e88-7687-444d-a893-5f7ee5a9e107",
   "metadata": {
    "ExecuteTime": {
     "end_time": "2023-05-03T06:09:11.730831Z",
     "start_time": "2023-05-03T06:09:06.184693Z"
    }
   },
   "outputs": [
    {
     "name": "stdout",
     "output_type": "stream",
     "text": [
      "Success\n"
     ]
    }
   ],
   "source": [
    "import requests\n",
    "\n",
    "url = 'https://search.shopping.naver.com/search/all?query=%EA%B3%A0%EB%93%B1%EC%96%B4&cat_id=&frm=NVSHATC'\n",
    "response = requests.get(url)\n",
    "\n",
    "if response.status_code == 200:\n",
    "    html = response.text\n",
    "    print(\"Success\")\n",
    "    # print(html)\n",
    "else:\n",
    "    print(\"Error:\", response.status_code)"
   ]
  },
  {
   "cell_type": "code",
   "execution_count": 3,
   "id": "d8658717",
   "metadata": {
    "ExecuteTime": {
     "end_time": "2023-05-03T06:09:11.795783Z",
     "start_time": "2023-05-03T06:09:11.734744Z"
    }
   },
   "outputs": [],
   "source": [
    "from bs4 import BeautifulSoup\n",
    "soup = BeautifulSoup(html, \"html.parser\")"
   ]
  },
  {
   "cell_type": "code",
   "execution_count": 10,
   "id": "4b86a53f-ef08-422d-bdb8-49c8e7e853e0",
   "metadata": {},
   "outputs": [
    {
     "data": {
      "text/plain": [
       "[<div class=\"adProduct_title__amInq\"><a class=\"adProduct_link__NYTV9 linkAnchor\" data-i=\"85824087793\" data-ms=\"1025502\" data-nclick=\"N=a:lst*A.title,i:85824087793,r:13\" data-testid=\"SEARCH_PRODUCT_AD\" href=\"https://adcr.naver.com/adcr?x=RKV8TzlFlXPRkaYvicW0fP///w==k9+nGIsds3n33IoFuUBGVw/QV0SMXbG11yIgx4KAnL8V24ozxl6ED8dK62Lwurq1g68HIA2mzgRi3qBASnNptCQvOG/HLElK0HcT5rZJ05ypbMuI9PYGSbxWe5t6j5OuMJZzZ0hwBmxuAADZ9hQN0t5uZcuN/PQpV876SUDAaaAquEoHbX31AeCOkBWE4saQL2RdpnNbq/q6it0cmoVp7m2xGg0FLG77W5T7bhxIZSdWI8y5oNzhismcLOZUwj7RjvPrdinKLyNYoyudp62GWcMXiUeGeimioaTUaxubbV6yEFl13E3//KkvOfzY3zdAeieaBc57TBlNvbU3VdmhTh8BRsIV8cdcFfczOHDzcA/Z4gAQyZo0KZ2pdcCihcSDYvhzJ6FGeZYghRcuGl1AXNWPlY8yu9lajPKiwBQEb7feGKgS7Ye9AD8sXLaoubOP4j985G1L9+TcMDSGBHLA4QImX1Q4JK8X1eoqdJSvY4TAxA5pT7LXIbqaY1qTb/wz+ubxpEhVTUomYWod9lwo7R0nfndsR8IpKEMdllnpz3o5gbIuZ0b/7zgUPagJu1NgKK9OrE0QfAIzh0sNBGHGXusn+9tKLBhvoOGkie/Xw1UN3cPUXZmQmcJFiXS6/4EyLwnBMvFIJMMPmE2QBtfNcOU/HKce3xoJB9uLWNc9rcBr2yTbqMVTlMuVX8KXBmVfy8S5ILWGi061SR7rzbBqymh0WF8Ej2R+gRNnnQSX4O9IJsXMDuTBPio4rnJ37xAFqn0XQbm9ScwjtuYhAtxsSApeSCLzBxm+a+Tq2k/ERnUV45KIt0oXWmrY/VtlBQ0lSBzNbnmcPNvfbTRkxLbVvVqm5NJ0BcE7Jha3zPoRNpBpMzPIRHfu0jwtBRA3uN+atctcuzWkhkMCXA2miSyHhLg==\" rel=\"noopener\" target=\"_blank\" title=\"노르웨이 냉동 고등어-자반(10손) 1박스\">노르웨이 냉동 고등어-자반(10손) 1박스</a></div>,\n",
       " <div class=\"adProduct_title__amInq\"><a class=\"adProduct_link__NYTV9 linkAnchor\" data-i=\"82060676455\" data-ms=\"824298\" data-nclick=\"N=a:lst*A.title,i:82060676455,r:1\" data-testid=\"SEARCH_PRODUCT_AD\" href=\"https://adcr.naver.com/adcr?x=y4qF+Q15MdD4RAdH7GPwW////w==kZsdndeHS8GXOHuYrYOuAYEpG+wmCmdp4Ge+wTO2NhExxxB5tdqLsbE1nWH5SY9Pxg4EsSJGkwehg5fSwRoHYuA4YyOBR/gkxH+n3H60pbfoNSL8F2sxtmEsfh7FozE59riMdPw8oW78CQv4Bfy/xtvoJERBNmBLNnWdIi+4tfQeMa1kR+NKs0QeOZ5TqXz9wIcm1WXE22PDoaR3RcJAIx2oXybLRHdprq28nb8Zy7ewpQWD3rPKIGkqQW/log/cxo5lQB47Fje9S+egWFbs2bNwAcpuVic9x2PtI2yMWbeJ0dcv9FfaONQstoMvoyvBMskgE0XcjBm8EbUVQftRSmE135NXJlw7jlGztok1nvvQ7V/7Jm3p49Az7EbT9ZVw/Bn1PCH5hyT5iisKkcQealhT4k/VqCtYPyLFZZVK879Vx4HQIWXjzrpIGPC6a5SCkcbDQ4oMQ2ZkHeIe1KQavFLSBx3lODZ7zv6Hy2CZI6BABkdrk7Snu9A/Zq8rE8cnrwlvgXwutnndm6z4UGn2KNAQ5trQaKj9oon39ItHFcjOZ4sKoYSB38X4ERGcgWSs/VLG3RPeCjzg4vHH7m/Odb4nFQGqJ0GRMyFGQ3eFCB7XWMRaoOsK19knmSkNjHIFPKuFhgpsOf56CVZD0iGFoQgNTQlxzt4F0bwJYjtcSUUUjDU3HmY7DXrgd5BSNvTYX6T+T0HK8ex4UsG1oNdBbH/zyWMjPnqZmLllJwhiSgua3bsP6JHMiedlokKs/k9Lpb3UJ4PODcXDVewwnlJq59LBhfmGsEoF8zc5lhkp3hc9Jw9mRKkkatqQhdYUp14JXybpqxMkcRU2msG+yocgXVdCbJtU86phKgMbvECYTA5Ct6pCfi3vC7HzVdUf0YOsJKGWsfxnk0cDLxNrmief/8IYzeo1RqYDoq4we91j0iTdfFl1QRtuMRGCPI6KRT6y+7EksLfIAgZynIZnkmZIv7XjBL9szRvUVaBes72aC7YhVrIUpc3F95m87lEdP/O/J\" rel=\"noopener\" target=\"_blank\" title=\"제주도 국산 간 고등어살 2kg 3kg 5kg\">제주도 국산 간 고등어살 2kg 3kg 5kg</a></div>,\n",
       " <div class=\"adProduct_title__amInq\"><a class=\"adProduct_link__NYTV9 linkAnchor\" data-i=\"85096672746\" data-ms=\"313515\" data-nclick=\"N=a:lst*A.title,i:85096672746,r:12\" data-testid=\"SEARCH_PRODUCT_AD\" href=\"https://adcr.naver.com/adcr?x=VAk+Z+a8Qe58og6AnDZSvP///w==kieY8E7V1bq3WG05mk9o7zbi/2FgcTBZ1pbDZD/E+7AbFyI2W6PySx50n86cEME7P05omZZnInGKqBl7ujJO65LdVsQDal4Zdd+zCBKZVPobCpWqdP9ztOCZRXOa1TiXZ5mYNndAY8bI5MQWOyzkVWQQ1bMaZp/Jth2qoWG4Mxbl9m4fQX1XBZWWmOBiU5KzNWZS7l0KNqj2jUdwz23iM8aWQfVgeliQWRdoGAckfN1YItnjiOdbJzM6n1jLLS33QOqQ8/7CK59jo2IxSDvwV8Fx1MRRN891SVxmmCjubOu7oMkNyhj06YDnfQkgLSGrI8w/5ApGWXxoNrvgnW8hFLHi+WHjgRejR+wovjzFu24AacoQt5+xM/YwsfGAxShdMfqGD37rc7KN5XSRmO3vJmSp+YIQZCMzAKA8ylJXRuuRGyWmy9VIWjqCb6/GbynPdG6MDF/tA5yN1CF3AMJ0k/GpA+a3btPD1cyaCeAYbiifR0J/GPExVKpljef5ZAzlTI9tPx9kTG/I05rJwVnP4elIz3ZcGTcIpakQl6tv2cLmOk7LsdKGYRiTtxeMrPwFURFaz714w83ZaEUNxtPJsUplxDMT8fZZSrClY9vF+3zUim0qUdjTy8NsvSQHtg6XkT7DRQsfwtrzmj09VyqWX4s1veO9J/5dRyH+1zA8O0qtbxgFvq4WzrXUPjlY0s703gUqQcnZ+Dy4sxCUHqDhhut/fZZ7s5Q+waOVG5ryuOmzVPyeVvqAcIJyvA0dNMeaH1ucOaLlL1sE3NSp4x/BSW8F8/U6YneGSvS426aroCwa3AuI7P5qUTmmXx6j++p6mCMxBCtppAVEU5KJq+RLA4USk7RXl1CNFv/EHm2dIr6LWppxWwqUhNK8O6nQIgOkb4yVXSpCRFBIAHqOcwaKv0+uuqt+dDijuzbr2c2ZhK8AoIi860z/OVhrRbDJzFF8pOM76k9U/EaJ2ifHYFJ8VsQnrtbbGn7vijmPAglUogOFUiVxBhzub1VjaDrRPagmM8ijfMqtV8b3wONUVLHxz6g==\" rel=\"noopener\" target=\"_blank\" title=\"안동 간 고등어 구이 간고등어\">안동 간 고등어 구이 간고등어</a></div>,\n",
       " <div class=\"adProduct_title__amInq\"><a class=\"adProduct_link__NYTV9 linkAnchor\" data-i=\"86013187092\" data-ms=\"1903986\" data-nclick=\"N=a:lst*A.title,i:86013187092,r:15\" data-testid=\"SEARCH_PRODUCT_AD\" href=\"https://adcr.naver.com/adcr?x=vkydpQm3Pn447QIS+uumf////w==kmBxfudkMq23k+PfOU9IH8y4QYfO+PgfiymeK6jFotA5xDJZ5ZAmx7QwUr5cg78u6n4h1+U+VlZo9uJoVcGBmWgzUbjInNsRFUdATsA7cTnML6PiPvnBQUDp0XB9wfbIN+QnXabRrPGtzJym4WfaM3ttFOGnWrpEsSsLJXbclALfxAOe1Lj8BWcMl4kpaBRJINOnu0lUzCnykLc3tGxgE4yO7f1KclATY5LOXgL5Rd1NlrQ54zhDZyk8hqy5BTBYHSuppFNpw4ASQHnR5Cw4HiNMw786FlgQNK9WCQsvWbLWRvQaRC0NGaTH2/q8UrXD/ENu8mGzGv5ihoHjlXEJOHvvzknScGL2YwWbEigoBoJleWbq1gxH4JlXHNebSX2DLHTSGrbWsqWtRx2X8XlxbrAX9xca12wR1lBgMiz/X2ol0/FvdVPt63OO/12lg1RqG/gDPEGs2NWPF1rY4nYg2qNQzmxRBiVkgWnfi9u6EjxsUpIEXJBB/LwE1L17eRzqA/DjodsODKTfzmdotJ0bcLK/Eh2aJJOy4pcVYBz/aq7PimC1NJ7EM9MX189xVQxzubIoRQnnljLTxZTLZ94J6Y9I0MVWx71r7BA/K+/oU8KRMURih0wiK1qnn5KSlD8vDhG256uACPvGcft00+D/iWSPI3wH4JyCLee5YLJVmu3mee7SqGTXFPVmR0+Go3x5N/yu1fjGZbr8T5XJFfMs6jySKe4QhfUBK2HI7/aIV7VUE8RIcqZE++KSpqM9l0UxOXmLK0a0OXVCqm9DuBPa8O9jRXe0CtylI4ONj7t2XEIM=\" rel=\"noopener\" target=\"_blank\" title=\"국내산 안동 간고등어 산지직송 가시없는 순살 손질 냉동 자반 고등어 뼈없는 아기생선\">국내산 안동 간고등어 산지직송 가시없는 순살 손질 냉동 자반 고등어 뼈없는 아기생선</a></div>]"
      ]
     },
     "execution_count": 10,
     "metadata": {},
     "output_type": "execute_result"
    }
   ],
   "source": [
    "divs = soup.find_all('div',{'class':'adProduct_title__amInq'})\n",
    "divs"
   ]
  },
  {
   "cell_type": "code",
   "execution_count": 8,
   "id": "fb3c7e03-1044-47bb-bde2-3bfd970f2529",
   "metadata": {},
   "outputs": [
    {
     "name": "stdout",
     "output_type": "stream",
     "text": [
      "노르웨이 냉동 고등어-자반(10손) 1박스\n",
      "제주도 국산 간 고등어살 2kg 3kg 5kg\n",
      "안동 간 고등어 구이 간고등어\n",
      "국내산 안동 간고등어 산지직송 가시없는 순살 손질 냉동 자반 고등어 뼈없는 아기생선\n"
     ]
    }
   ],
   "source": [
    "for div in divs:\n",
    "    print(div.find('a').text)"
   ]
  },
  {
   "cell_type": "code",
   "execution_count": 13,
   "id": "d25dc5fd-3d3d-4c4b-b4cd-c98bb3b86c58",
   "metadata": {},
   "outputs": [
    {
     "name": "stdout",
     "output_type": "stream",
     "text": [
      "44,000원\n",
      "38,000원\n",
      "14,900원\n",
      "17,850원\n",
      "13,700원\n"
     ]
    }
   ],
   "source": [
    "spans = soup.find_all('span',{'class':'price_num__S2p_v'})\n",
    "for span in spans:\n",
    "    print(span.text)"
   ]
  },
  {
   "cell_type": "markdown",
   "id": "5cac7c3d",
   "metadata": {},
   "source": [
    "## 특정 단어로 시작하는 클래스 고르기"
   ]
  },
  {
   "cell_type": "code",
   "execution_count": 68,
   "id": "9eb8c600",
   "metadata": {
    "ExecuteTime": {
     "end_time": "2023-05-03T06:09:11.804770Z",
     "start_time": "2023-05-03T06:09:11.797361Z"
    }
   },
   "outputs": [
    {
     "name": "stdout",
     "output_type": "stream",
     "text": [
      "왕특대 순살 손질 안동 간고등어 x16팩 자반\n",
      "제주도 국산 간 고등어살 2kg 3kg 5kg\n",
      "[4+1 오픈이벤트][안동맛집 간고등어] 차별화된 크기와 맛 찜닭 소스로 숙성한 프리미엄 안동 간고등어 차별화된 크기와 맛\n",
      "10+1 초간편 순살 안동 간고등어 자반 10-20팩 국내산 산지직송\n",
      "가시제거연구소 고등어밥상 800g 가시없는 순살 고등어구이 에어프라이어\n"
     ]
    }
   ],
   "source": [
    "def is_basicList_title(class_name):\n",
    "    return class_name and class_name.startswith('basicList_title')\n",
    "\n",
    "for temp in soup.find_all(\"div\",class_=is_basicList_title):\n",
    "    print(temp.find('a').text)\n"
   ]
  }
 ],
 "metadata": {
  "kernelspec": {
   "display_name": "Python 3 (ipykernel)",
   "language": "python",
   "name": "python3"
  },
  "language_info": {
   "codemirror_mode": {
    "name": "ipython",
    "version": 3
   },
   "file_extension": ".py",
   "mimetype": "text/x-python",
   "name": "python",
   "nbconvert_exporter": "python",
   "pygments_lexer": "ipython3",
   "version": "3.8.10"
  },
  "toc": {
   "base_numbering": 1,
   "nav_menu": {},
   "number_sections": false,
   "sideBar": true,
   "skip_h1_title": false,
   "title_cell": "Table of Contents",
   "title_sidebar": "Contents",
   "toc_cell": false,
   "toc_position": {},
   "toc_section_display": true,
   "toc_window_display": false
  }
 },
 "nbformat": 4,
 "nbformat_minor": 5
}
