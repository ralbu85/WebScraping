{
 "cells": [
  {
   "cell_type": "code",
   "execution_count": 66,
   "id": "d1030e88-7687-444d-a893-5f7ee5a9e107",
   "metadata": {
    "ExecuteTime": {
     "end_time": "2023-05-03T06:09:11.730831Z",
     "start_time": "2023-05-03T06:09:06.184693Z"
    }
   },
   "outputs": [
    {
     "name": "stdout",
     "output_type": "stream",
     "text": [
      "Success\n"
     ]
    }
   ],
   "source": [
    "import requests\n",
    "\n",
    "url = 'https://search.shopping.naver.com/search/all?query=%EA%B3%A0%EB%93%B1%EC%96%B4&cat_id=&frm=NVSHATC'\n",
    "response = requests.get(url)\n",
    "\n",
    "if response.status_code == 200:\n",
    "    html = response.text\n",
    "    print(\"Success\")\n",
    "    # print(html)\n",
    "else:\n",
    "    print(\"Error:\", response.status_code)"
   ]
  },
  {
   "cell_type": "code",
   "execution_count": 67,
   "id": "d8658717",
   "metadata": {
    "ExecuteTime": {
     "end_time": "2023-05-03T06:09:11.795783Z",
     "start_time": "2023-05-03T06:09:11.734744Z"
    },
    "scrolled": false
   },
   "outputs": [],
   "source": [
    "from bs4 import BeautifulSoup\n",
    "soup = BeautifulSoup(html, \"html.parser\")"
   ]
  },
  {
   "cell_type": "markdown",
   "id": "5cac7c3d",
   "metadata": {},
   "source": [
    "## 특정 단어로 시작하는 클래스 고르기"
   ]
  },
  {
   "cell_type": "code",
   "execution_count": 68,
   "id": "9eb8c600",
   "metadata": {
    "ExecuteTime": {
     "end_time": "2023-05-03T06:09:11.804770Z",
     "start_time": "2023-05-03T06:09:11.797361Z"
    }
   },
   "outputs": [
    {
     "name": "stdout",
     "output_type": "stream",
     "text": [
      "왕특대 순살 손질 안동 간고등어 x16팩 자반\n",
      "제주도 국산 간 고등어살 2kg 3kg 5kg\n",
      "[4+1 오픈이벤트][안동맛집 간고등어] 차별화된 크기와 맛 찜닭 소스로 숙성한 프리미엄 안동 간고등어 차별화된 크기와 맛\n",
      "10+1 초간편 순살 안동 간고등어 자반 10-20팩 국내산 산지직송\n",
      "가시제거연구소 고등어밥상 800g 가시없는 순살 고등어구이 에어프라이어\n"
     ]
    }
   ],
   "source": [
    "def is_basicList_title(class_name):\n",
    "    return class_name and class_name.startswith('basicList_title')\n",
    "for temp in soup.find_all(\"div\",class_=is_basicList_title):\n",
    "    print(temp.find('a').text)\n"
   ]
  }
 ],
 "metadata": {
  "kernelspec": {
   "display_name": "Python 3 (ipykernel)",
   "language": "python",
   "name": "python3"
  },
  "language_info": {
   "codemirror_mode": {
    "name": "ipython",
    "version": 3
   },
   "file_extension": ".py",
   "mimetype": "text/x-python",
   "name": "python",
   "nbconvert_exporter": "python",
   "pygments_lexer": "ipython3",
   "version": "3.8.10"
  },
  "toc": {
   "base_numbering": 1,
   "nav_menu": {},
   "number_sections": false,
   "sideBar": true,
   "skip_h1_title": false,
   "title_cell": "Table of Contents",
   "title_sidebar": "Contents",
   "toc_cell": false,
   "toc_position": {},
   "toc_section_display": true,
   "toc_window_display": false
  }
 },
 "nbformat": 4,
 "nbformat_minor": 5
}
