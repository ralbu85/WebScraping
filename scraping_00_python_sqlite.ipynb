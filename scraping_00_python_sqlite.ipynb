{
 "cells": [
  {
   "cell_type": "code",
   "execution_count": 1,
   "id": "84689c32-3837-4ef4-908e-93eee42cd038",
   "metadata": {},
   "outputs": [],
   "source": [
    "# 외부 라이브러리\n",
    "import sqlite3"
   ]
  },
  {
   "cell_type": "markdown",
   "id": "fddb5b49-ddd7-4e93-8951-ace0114e7432",
   "metadata": {},
   "source": [
    "## 데이터베이스 접속"
   ]
  },
  {
   "cell_type": "code",
   "execution_count": 28,
   "id": "263afc2e-3c1e-4904-a850-a9f08b205c24",
   "metadata": {},
   "outputs": [],
   "source": [
    "conn = sqlite3.connect('database.db') ## 해당 파일이 없다면, 새로운 파일 생성, 있다면 불러오기\n",
    "cursor = conn.cursor() # 마우스 커서처럼 데이터베이스의 현재 상태를 제어하는 도구"
   ]
  },
  {
   "cell_type": "markdown",
   "id": "0fc8d392-6fb4-4412-8893-960bbb85596c",
   "metadata": {},
   "source": [
    "## 따옴표가 3개인 문자열"
   ]
  },
  {
   "cell_type": "code",
   "execution_count": 32,
   "id": "fae7a703-1a46-43b0-8645-6312e8e6ad7d",
   "metadata": {},
   "outputs": [
    {
     "data": {
      "text/plain": [
       "'문자열'"
      ]
     },
     "execution_count": 32,
     "metadata": {},
     "output_type": "execute_result"
    }
   ],
   "source": [
    "x = '문자열'\n",
    "x"
   ]
  },
  {
   "cell_type": "code",
   "execution_count": 33,
   "id": "a451bdbb-e41c-4b1c-b52a-edf599af00c2",
   "metadata": {},
   "outputs": [
    {
     "name": "stdout",
     "output_type": "stream",
     "text": [
      "줄바꿈등의 특수문자를\n",
      "모두 포함한 문자열을\n",
      "만들고 싶을때 따옴표 3개 사용\n"
     ]
    }
   ],
   "source": [
    "x = '''줄바꿈등의 특수문자를\n",
    "모두 포함한 문자열을\n",
    "만들고 싶을때 따옴표 3개 사용'''\n",
    "print(x)"
   ]
  },
  {
   "cell_type": "markdown",
   "id": "57a578c8-0b14-44dc-be54-b7f0056d7d5b",
   "metadata": {},
   "source": [
    "## 테이블 만들기"
   ]
  },
  {
   "cell_type": "code",
   "execution_count": 34,
   "id": "68a7b4c9-3876-47a5-898a-06d9df69f087",
   "metadata": {},
   "outputs": [
    {
     "data": {
      "text/plain": [
       "<sqlite3.Cursor at 0x7f253a271c00>"
      ]
     },
     "execution_count": 34,
     "metadata": {},
     "output_type": "execute_result"
    }
   ],
   "source": [
    "# 따옴표 3개 줄바뀌어도 문자열로 인식\n",
    "# 쿼리문 작성시 주로 사용됨\n",
    "# 쿼리문을 문자열로 작성\n",
    "query = '''CREATE TABLE IF NOT EXISTS employees(\n",
    "            id INTEGER PRIMARY KEY,\n",
    "            name TEXT,\n",
    "            age INTEGER,\n",
    "            position TEXT\n",
    ")\n",
    "'''\n",
    "\n",
    "\n",
    "# 현재 커서에서 해당 쿼리를 실행\n",
    "cursor.execute(query) # 현재 접속한 DB에서 쿼리문을 실행해라"
   ]
  },
  {
   "cell_type": "markdown",
   "id": "39050b51-58fb-4248-84e7-8db292a8207e",
   "metadata": {},
   "source": [
    "## 데이터 집어넣기"
   ]
  },
  {
   "cell_type": "code",
   "execution_count": 35,
   "id": "12beb67f-b806-4256-b7a0-aa51f7410f6a",
   "metadata": {},
   "outputs": [],
   "source": [
    "# 함수이름: create_employee\n",
    "# 입력인자: name, age, position\n",
    "# 하는일: 테이블에 데이터를 집어넣는 일을 한다\n",
    "# 출력인자: 없음\n",
    "\n",
    "def create_employee(name, age, position):\n",
    "    query = \"INSERT INTO employees (name, age, position) VALUES(?,?,?)\" # 쿼리문\n",
    "    values = (name, age, position) # 쿼리문의 ?에 대응시킬 실제 값\n",
    "    cursor.execute(query, values) # 커서로 쿼리문을 실행 -> query의 ?부분에 values의 값이 하나씩 대응되어 실행\n",
    "    conn.commit()  # 테이블을 만들때와 달리, conn.commit()도 해줘야 된다.\n",
    "    print(\"Insert success\") #안내메시지       \n",
    "                "
   ]
  },
  {
   "cell_type": "code",
   "execution_count": 36,
   "id": "94785d9c-f6fe-45c9-9365-2714ee2a055a",
   "metadata": {},
   "outputs": [
    {
     "name": "stdout",
     "output_type": "stream",
     "text": [
      "Insert success\n",
      "Insert success\n"
     ]
    }
   ],
   "source": [
    "# 데이터베이스에 값 집어넣기    \n",
    "create_employee('jihwan', 32, \"Ph.D.\")\n",
    "create_employee('james', 35, \"master\")"
   ]
  },
  {
   "cell_type": "code",
   "execution_count": 39,
   "id": "c68eb9ed-da55-4091-abbc-c054c0da270d",
   "metadata": {},
   "outputs": [
    {
     "name": "stdout",
     "output_type": "stream",
     "text": [
      "Insert success\n",
      "Insert success\n"
     ]
    }
   ],
   "source": [
    "create_employee('jamie', 16, \"Ph.D.\")\n",
    "create_employee('jhon', 35, \"master\")"
   ]
  },
  {
   "cell_type": "markdown",
   "id": "b200a8c3-c228-4795-af4e-d2285ede254c",
   "metadata": {},
   "source": [
    "## 데이터 읽기"
   ]
  },
  {
   "cell_type": "code",
   "execution_count": 37,
   "id": "df9ccc36-466f-4c15-b739-9a7846ffdeb4",
   "metadata": {},
   "outputs": [],
   "source": [
    "def read_employee():\n",
    "    query = \"SELECT * FROM employees\"    \n",
    "    cursor.execute(query)\n",
    "    employees = cursor.fetchall()\n",
    "    if employees:\n",
    "        for record in employees:\n",
    "            print(record)\n",
    "    else:\n",
    "        print(\"Employee not found.\")"
   ]
  },
  {
   "cell_type": "code",
   "execution_count": 40,
   "id": "1000c94d-6433-479a-9dde-f3bc46c90493",
   "metadata": {},
   "outputs": [
    {
     "name": "stdout",
     "output_type": "stream",
     "text": [
      "(1, 'jihwan', 32, 'Ph.D.')\n",
      "(2, 'james', 35, 'master')\n",
      "(3, 'jamie', 16, 'Ph.D.')\n",
      "(4, 'jhon', 35, 'master')\n"
     ]
    }
   ],
   "source": [
    "read_employee()"
   ]
  },
  {
   "cell_type": "markdown",
   "id": "efd6c41b-9138-45b5-9ba1-bac28cb31953",
   "metadata": {},
   "source": [
    "##  업데이트"
   ]
  },
  {
   "cell_type": "code",
   "execution_count": 41,
   "id": "d9da54e0-bdb9-4261-8ddd-c788d3010733",
   "metadata": {},
   "outputs": [],
   "source": [
    "def update_employee(employee_id, name, age, position):\n",
    "    query = \"UPDATE employees SET name=?, age=?, position=? WHERE id=?\"\n",
    "    values = (name, age, position, employee_id)\n",
    "    cursor.execute(query, values )\n",
    "    conn.commit()\n",
    "    print(\"Employee updated successfully.\")"
   ]
  },
  {
   "cell_type": "code",
   "execution_count": 42,
   "id": "c385894a-b6c0-4f63-9899-50410a769187",
   "metadata": {},
   "outputs": [
    {
     "name": "stdout",
     "output_type": "stream",
     "text": [
      "Employee updated successfully.\n"
     ]
    }
   ],
   "source": [
    "update_employee(1, 'myname', 29, 'ph.d')"
   ]
  },
  {
   "cell_type": "code",
   "execution_count": 43,
   "id": "1579e6ec-b356-4145-b85b-4c9ad24471a8",
   "metadata": {},
   "outputs": [
    {
     "name": "stdout",
     "output_type": "stream",
     "text": [
      "(1, 'myname', 29, 'ph.d')\n",
      "(2, 'james', 35, 'master')\n",
      "(3, 'jamie', 16, 'Ph.D.')\n",
      "(4, 'jhon', 35, 'master')\n"
     ]
    }
   ],
   "source": [
    "read_employee()"
   ]
  },
  {
   "cell_type": "markdown",
   "id": "878f8701-a573-4c7e-86a2-fd91a7d96b30",
   "metadata": {},
   "source": [
    "## 지우기"
   ]
  },
  {
   "cell_type": "code",
   "execution_count": 44,
   "id": "ceb1fb19-ba21-41d8-adf6-4b97ed1ba15e",
   "metadata": {},
   "outputs": [],
   "source": [
    "def delete_employee(employee_id):\n",
    "    query = \"DELETE FROM employees WHERE id=?\"\n",
    "    value = (employee_id, ) # ?가 하나더라도, 리스트형태로 잡아준다\n",
    "    cursor.execute(query, value)\n",
    "    conn.commit()\n",
    "    print(\"Employee deleted successfully.\")\n"
   ]
  },
  {
   "cell_type": "code",
   "execution_count": 45,
   "id": "18983393-2058-46f7-bd0b-fadc75f9e7e0",
   "metadata": {},
   "outputs": [
    {
     "name": "stdout",
     "output_type": "stream",
     "text": [
      "Employee deleted successfully.\n"
     ]
    }
   ],
   "source": [
    "delete_employee(2)"
   ]
  },
  {
   "cell_type": "code",
   "execution_count": 46,
   "id": "c2aeb918-cab2-4b63-8868-a42151620003",
   "metadata": {},
   "outputs": [
    {
     "name": "stdout",
     "output_type": "stream",
     "text": [
      "(1, 'myname', 29, 'ph.d')\n",
      "(3, 'jamie', 16, 'Ph.D.')\n",
      "(4, 'jhon', 35, 'master')\n"
     ]
    }
   ],
   "source": [
    "read_employee()"
   ]
  }
 ],
 "metadata": {
  "kernelspec": {
   "display_name": "Python 3 (ipykernel)",
   "language": "python",
   "name": "python3"
  },
  "language_info": {
   "codemirror_mode": {
    "name": "ipython",
    "version": 3
   },
   "file_extension": ".py",
   "mimetype": "text/x-python",
   "name": "python",
   "nbconvert_exporter": "python",
   "pygments_lexer": "ipython3",
   "version": "3.8.10"
  }
 },
 "nbformat": 4,
 "nbformat_minor": 5
}
