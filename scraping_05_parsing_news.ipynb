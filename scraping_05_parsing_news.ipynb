{
 "cells": [
  {
   "cell_type": "code",
   "execution_count": 7,
   "id": "32134a05",
   "metadata": {
    "ExecuteTime": {
     "end_time": "2023-05-03T06:23:30.901827Z",
     "start_time": "2023-05-03T06:23:25.716019Z"
    }
   },
   "outputs": [
    {
     "name": "stdout",
     "output_type": "stream",
     "text": [
      "Success\n"
     ]
    }
   ],
   "source": [
    "import requests\n",
    "\n",
    "url = 'https://search.naver.com/search.naver?where=news&sm=tab_jum&query=%EB%B6%80%EA%B2%BD%EB%8C%80'\n",
    "response = requests.get(url)\n",
    "\n",
    "if response.status_code == 200:\n",
    "    html = response.text\n",
    "    print(\"Success\")\n",
    "    # print(html)\n",
    "else:\n",
    "    print(\"Error:\", response.status_code)"
   ]
  },
  {
   "cell_type": "code",
   "execution_count": 30,
   "id": "aa2264bd",
   "metadata": {
    "ExecuteTime": {
     "end_time": "2023-05-03T06:33:53.692143Z",
     "start_time": "2023-05-03T06:33:53.525584Z"
    }
   },
   "outputs": [],
   "source": [
    "from bs4 import BeautifulSoup\n",
    "soup = BeautifulSoup(html, \"html.parser\")"
   ]
  },
  {
   "cell_type": "markdown",
   "id": "4143414a",
   "metadata": {},
   "source": [
    "## 부경대 뉴스타이틀 검색"
   ]
  },
  {
   "cell_type": "code",
   "execution_count": 46,
   "id": "76bf6f97",
   "metadata": {
    "ExecuteTime": {
     "end_time": "2023-05-03T06:43:13.597754Z",
     "start_time": "2023-05-03T06:43:13.574206Z"
    },
    "scrolled": false
   },
   "outputs": [
    {
     "name": "stdout",
     "output_type": "stream",
     "text": [
      "부경대 ‘나도해양경찰특공대’ 참여\n",
      "http://www.kookje.co.kr/news2011/asp/newsbody.asp?code=2100&key=20230503.22017000791\n",
      "국립부경대생들 '명예 해양경찰특공대' 임명\n",
      "http://www.veritas-a.com/news/articleView.html?idxno=455170\n",
      "부경대, '융합기술사업화 전문인력 양성사업' 2년 연속 '최우수'\n",
      "https://www.iusm.co.kr/news/articleView.html?idxno=1014257\n",
      "부경대생들, ‘명예 해양경찰특공대’ 임명\n",
      "https://www.busan.com/view/busan/view.php?code=2023050117131484562\n",
      "부경대, 반도체 등 첨단 분야 정원 38명↑\n",
      "http://www.newsis.com/view/?id=NISX20230427_0002283884&cID=10899&pID=10800\n",
      "부경대, ‘융합기술사업화 전문인력 양성사업’ 2년 연속 ‘최우수’\n",
      "https://view.asiae.co.kr/article/2023042815424459347\n",
      "부경대, 데이터사이언스 전문가 키운다\n",
      "https://dhnews.co.kr/news/view/1065572044538157\n",
      "부경대 용당캠, 530억 원 투입해 첨단산단 조성\n",
      "https://busanmbc.co.kr/article/HOnQk0huautJ1s-\n",
      "양현경 부경대 교수팀, 카본 양자점 자외선 센서 개발\n",
      "http://news.mt.co.kr/mtview.php?no=2023042813385342082\n",
      "[게시판] Sh수협은행, 부경대에 발전기금 3억원 전달\n",
      "https://www.yna.co.kr/view/AKR20230419030300002?input=1195m\n"
     ]
    }
   ],
   "source": [
    "for i in soup.find_all('div',{'class':'news_area'}):\n",
    "    news_tit = i.find('a',{'class':'news_tit'})    \n",
    "    print(news_tit.text)    \n",
    "    print(news_tit.get('href'))\n",
    "    "
   ]
  },
  {
   "cell_type": "code",
   "execution_count": 45,
   "id": "68cca131",
   "metadata": {
    "ExecuteTime": {
     "end_time": "2023-05-03T06:42:59.797785Z",
     "start_time": "2023-05-03T06:42:59.789498Z"
    }
   },
   "outputs": [
    {
     "data": {
      "text/plain": [
       "'https://www.yna.co.kr/view/AKR20230419030300002?input=1195m'"
      ]
     },
     "execution_count": 45,
     "metadata": {},
     "output_type": "execute_result"
    }
   ],
   "source": [
    "news_tit.get('href')"
   ]
  },
  {
   "cell_type": "markdown",
   "id": "3494f552",
   "metadata": {},
   "source": [
    "## 제공 신문사 검색"
   ]
  },
  {
   "cell_type": "code",
   "execution_count": 40,
   "id": "cc20c791",
   "metadata": {
    "ExecuteTime": {
     "end_time": "2023-05-03T06:39:15.272627Z",
     "start_time": "2023-05-03T06:39:15.251089Z"
    },
    "scrolled": true
   },
   "outputs": [
    {
     "name": "stdout",
     "output_type": "stream",
     "text": [
      "국제신문\n",
      "베리타스알파\n",
      "울산매일신문\n",
      "부산일보\n",
      "뉴시스\n",
      "아시아경제\n",
      "대학저널\n",
      "부산MBC\n",
      "머니투데이\n",
      "연합뉴스\n"
     ]
    }
   ],
   "source": [
    "for i in soup.find_all('div',{'class':'news_area'}):\n",
    "    press_tit = i.find('a',{'class':'press'})    \n",
    "    print(press_tit.text)"
   ]
  },
  {
   "cell_type": "markdown",
   "id": "694b0548",
   "metadata": {},
   "source": [
    "## 종합하여 "
   ]
  },
  {
   "cell_type": "code",
   "execution_count": 50,
   "id": "5bd78c8d",
   "metadata": {
    "ExecuteTime": {
     "end_time": "2023-05-03T06:44:19.764726Z",
     "start_time": "2023-05-03T06:44:19.733768Z"
    }
   },
   "outputs": [
    {
     "name": "stdout",
     "output_type": "stream",
     "text": [
      "부경대 ‘나도해양경찰특공대’ 참여\n",
      "http://www.kookje.co.kr/news2011/asp/newsbody.asp?code=2100&key=20230503.22017000791\n",
      "국제신문\n",
      "==================================================\n",
      "국립부경대생들 '명예 해양경찰특공대' 임명\n",
      "http://www.veritas-a.com/news/articleView.html?idxno=455170\n",
      "베리타스알파\n",
      "==================================================\n",
      "부경대, '융합기술사업화 전문인력 양성사업' 2년 연속 '최우수'\n",
      "https://www.iusm.co.kr/news/articleView.html?idxno=1014257\n",
      "울산매일신문\n",
      "==================================================\n",
      "부경대생들, ‘명예 해양경찰특공대’ 임명\n",
      "https://www.busan.com/view/busan/view.php?code=2023050117131484562\n",
      "부산일보\n",
      "==================================================\n",
      "부경대, 반도체 등 첨단 분야 정원 38명↑\n",
      "http://www.newsis.com/view/?id=NISX20230427_0002283884&cID=10899&pID=10800\n",
      "뉴시스\n",
      "==================================================\n",
      "부경대, ‘융합기술사업화 전문인력 양성사업’ 2년 연속 ‘최우수’\n",
      "https://view.asiae.co.kr/article/2023042815424459347\n",
      "아시아경제\n",
      "==================================================\n",
      "부경대, 데이터사이언스 전문가 키운다\n",
      "https://dhnews.co.kr/news/view/1065572044538157\n",
      "대학저널\n",
      "==================================================\n",
      "부경대 용당캠, 530억 원 투입해 첨단산단 조성\n",
      "https://busanmbc.co.kr/article/HOnQk0huautJ1s-\n",
      "부산MBC\n",
      "==================================================\n",
      "양현경 부경대 교수팀, 카본 양자점 자외선 센서 개발\n",
      "http://news.mt.co.kr/mtview.php?no=2023042813385342082\n",
      "머니투데이\n",
      "==================================================\n",
      "[게시판] Sh수협은행, 부경대에 발전기금 3억원 전달\n",
      "https://www.yna.co.kr/view/AKR20230419030300002?input=1195m\n",
      "연합뉴스\n",
      "==================================================\n"
     ]
    }
   ],
   "source": [
    "for i in soup.find_all('div',{'class':'news_area'}):\n",
    "    news_tit = i.find('a',{'class':'news_tit'})        \n",
    "    press_tit = i.find('a',{'class':'press'})\n",
    "    print(news_tit.text)    \n",
    "    print(news_tit.get('href'))\n",
    "    print(press_tit.text,)\n",
    "    print('='*50)"
   ]
  },
  {
   "cell_type": "code",
   "execution_count": null,
   "id": "77382677",
   "metadata": {},
   "outputs": [],
   "source": []
  }
 ],
 "metadata": {
  "kernelspec": {
   "display_name": "Python 3 (ipykernel)",
   "language": "python",
   "name": "python3"
  },
  "language_info": {
   "codemirror_mode": {
    "name": "ipython",
    "version": 3
   },
   "file_extension": ".py",
   "mimetype": "text/x-python",
   "name": "python",
   "nbconvert_exporter": "python",
   "pygments_lexer": "ipython3",
   "version": "3.8.10"
  },
  "toc": {
   "base_numbering": 1,
   "nav_menu": {},
   "number_sections": false,
   "sideBar": true,
   "skip_h1_title": false,
   "title_cell": "Table of Contents",
   "title_sidebar": "Contents",
   "toc_cell": false,
   "toc_position": {},
   "toc_section_display": true,
   "toc_window_display": false
  }
 },
 "nbformat": 4,
 "nbformat_minor": 5
}
