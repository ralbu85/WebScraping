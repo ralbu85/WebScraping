{
 "cells": [
  {
   "cell_type": "markdown",
   "id": "017cad5d-e387-4e3d-9ad4-7b130983464b",
   "metadata": {},
   "source": [
    "## 셀레니움 패키지 설치"
   ]
  },
  {
   "cell_type": "code",
   "execution_count": 1,
   "id": "717e910e-35cf-4dd7-9ceb-6bfc032b8f69",
   "metadata": {
    "tags": []
   },
   "outputs": [
    {
     "name": "stdout",
     "output_type": "stream",
     "text": [
      "Requirement already satisfied: selenium in c:\\python310\\lib\\site-packages (4.4.3)"
     ]
    },
    {
     "name": "stderr",
     "output_type": "stream",
     "text": [
      "WARNING: You are using pip version 22.0.4; however, version 23.1.2 is available.\n",
      "You should consider upgrading via the 'C:\\Python310\\python.exe -m pip install --upgrade pip' command.\n"
     ]
    },
    {
     "name": "stdout",
     "output_type": "stream",
     "text": [
      "\n",
      "Requirement already satisfied: trio~=0.17 in c:\\python310\\lib\\site-packages (from selenium) (0.21.0)\n",
      "Requirement already satisfied: trio-websocket~=0.9 in c:\\python310\\lib\\site-packages (from selenium) (0.9.2)\n",
      "Requirement already satisfied: certifi>=2021.10.8 in c:\\python310\\lib\\site-packages (from selenium) (2022.9.14)\n",
      "Requirement already satisfied: urllib3[socks]~=1.26 in c:\\python310\\lib\\site-packages (from selenium) (1.26.12)\n",
      "Requirement already satisfied: sniffio in c:\\python310\\lib\\site-packages (from trio~=0.17->selenium) (1.3.0)\n",
      "Requirement already satisfied: outcome in c:\\python310\\lib\\site-packages (from trio~=0.17->selenium) (1.2.0)\n",
      "Requirement already satisfied: sortedcontainers in c:\\python310\\lib\\site-packages (from trio~=0.17->selenium) (2.4.0)\n",
      "Requirement already satisfied: attrs>=19.2.0 in c:\\python310\\lib\\site-packages (from trio~=0.17->selenium) (22.1.0)\n",
      "Requirement already satisfied: idna in c:\\python310\\lib\\site-packages (from trio~=0.17->selenium) (3.4)\n",
      "Requirement already satisfied: cffi>=1.14 in c:\\python310\\lib\\site-packages (from trio~=0.17->selenium) (1.15.1)\n",
      "Requirement already satisfied: async-generator>=1.9 in c:\\python310\\lib\\site-packages (from trio~=0.17->selenium) (1.10)\n",
      "Requirement already satisfied: wsproto>=0.14 in c:\\python310\\lib\\site-packages (from trio-websocket~=0.9->selenium) (1.2.0)\n",
      "Requirement already satisfied: PySocks!=1.5.7,<2.0,>=1.5.6 in c:\\python310\\lib\\site-packages (from urllib3[socks]~=1.26->selenium) (1.7.1)\n",
      "Requirement already satisfied: pycparser in c:\\python310\\lib\\site-packages (from cffi>=1.14->trio~=0.17->selenium) (2.21)\n",
      "Requirement already satisfied: h11<1,>=0.9.0 in c:\\python310\\lib\\site-packages (from wsproto>=0.14->trio-websocket~=0.9->selenium) (0.13.0)\n"
     ]
    }
   ],
   "source": [
    "!pip install selenium"
   ]
  },
  {
   "cell_type": "markdown",
   "id": "949cb90f-b71a-4235-be73-783a7579ac59",
   "metadata": {},
   "source": [
    "## 크롬 웹드라이버 설치\n",
    "* 다음의 절차를 따른다\n",
    "    - https://chromedriver.chromium.org/downloads 방문\n",
    "    - 최신버전의 크롬드라이버 다운로드(Colab 사용의 경우, linux로 다운)\n",
    "    - 드라이버 파일을 현재 작업하고 있는 폴더에 업로드    \n",
    "    "
   ]
  },
  {
   "cell_type": "markdown",
   "id": "90d2a844-c417-472f-9b2d-6de80079cb78",
   "metadata": {},
   "source": [
    "## 셀레니움 불러오기"
   ]
  },
  {
   "cell_type": "code",
   "execution_count": 2,
   "id": "8ddc8d09-b66d-4f0c-84da-0218098301ae",
   "metadata": {
    "tags": []
   },
   "outputs": [],
   "source": [
    "from selenium import webdriver"
   ]
  },
  {
   "cell_type": "code",
   "execution_count": 75,
   "id": "d13cfe97-7f61-4028-9ad9-d8df6a64950a",
   "metadata": {
    "tags": []
   },
   "outputs": [
    {
     "name": "stderr",
     "output_type": "stream",
     "text": [
      "C:\\Users\\ralbu\\AppData\\Local\\Temp\\ipykernel_26944\\282247874.py:5: DeprecationWarning: executable_path has been deprecated, please pass in a Service object\n",
      "  driver = webdriver.Chrome('chromedriver.exe')\n"
     ]
    }
   ],
   "source": [
    "# 웹드라이버 불러오기\n",
    "# 버전 확인\n",
    "# 실행시 테스트용 브라우저 팝업됨\n",
    "# 해당 브라우저는 코드를 실행하는 동안 계속 놔두어야 함\n",
    "driver = webdriver.Chrome('chromedriver.exe') \n"
   ]
  },
  {
   "cell_type": "markdown",
   "id": "9b4fafe5-49e6-456b-ac47-42117965e930",
   "metadata": {},
   "source": [
    "## 특정 사이트 방문하기\n"
   ]
  },
  {
   "cell_type": "code",
   "execution_count": 11,
   "id": "d066c58b-9762-4091-9f53-46f93f0ac004",
   "metadata": {
    "tags": []
   },
   "outputs": [],
   "source": [
    "driver.get('https://www.naver.com')"
   ]
  },
  {
   "cell_type": "markdown",
   "id": "44585840-ac82-4df1-8779-b68c380f77e7",
   "metadata": {},
   "source": [
    "## 데이터가 다 불러질때까지 기다리기"
   ]
  },
  {
   "cell_type": "code",
   "execution_count": 13,
   "id": "9f79dfbe-9c5d-4fa4-aaf4-7c6d7c465368",
   "metadata": {
    "tags": []
   },
   "outputs": [],
   "source": [
    "driver.get('https://www.naver.com')\n",
    "driver.implicitly_wait(3) # 모든 데이터가 다 로드될때까지 3초간 기다리기"
   ]
  },
  {
   "cell_type": "markdown",
   "id": "891fa1aa-d5de-4e3d-8378-5ae31c19385a",
   "metadata": {},
   "source": [
    "## 검색창에 데이터 입력해보기"
   ]
  },
  {
   "cell_type": "code",
   "execution_count": 18,
   "id": "22c5e616-f87e-45c9-8133-e160d5c75b8b",
   "metadata": {
    "tags": []
   },
   "outputs": [],
   "source": [
    "driver.get('https://www.naver.com')\n",
    "driver.implicitly_wait(3) # 모든 데이터가 다 로드될때까지 3초간 기다리기\n",
    "\n",
    "## 검색창 엘리먼트 찾기\n",
    "search_input = driver.find_element(by='id', value='query')\n",
    "search_input.send_keys(\"윤석열\")\n",
    "\n",
    "## 버튼 찾기\n",
    "search_button = driver.find_element('id', value='search-btn')\n",
    "search_button.submit()"
   ]
  },
  {
   "cell_type": "markdown",
   "id": "5a418ffc-8deb-4c71-8eb5-a3021e2717e1",
   "metadata": {},
   "source": [
    "## 다나와 사이트 접속"
   ]
  },
  {
   "cell_type": "code",
   "execution_count": 100,
   "id": "5f25f5b0-d63d-41cd-b001-fa46d21243e2",
   "metadata": {
    "tags": []
   },
   "outputs": [],
   "source": [
    "from selenium.webdriver.common.by import By\n",
    "\n",
    "# 드라이버 접속\n",
    "driver.get('https://www.danawa.com')\n",
    "driver.implicitly_wait(3) # 모든 데이터가 다 로드될때까지 3초간 기다리기\n",
    "\n",
    "# 검색창 엘리먼트 찾기\n",
    "search_input = driver.find_element(by='id', value='AKCSearch')\n",
    "search_input.send_keys('노트북')\n",
    "\n",
    "# 버튼 찾기\n",
    "btn  = driver.find_element(By.CLASS_NAME, value='search__submit')\n",
    "btn.submit()\n",
    "\n",
    "# 스크롤 다운\n",
    "driver.implicitly_wait(5) # 모든 데이터가 다 로드될때까지 3초간 기다리기\n",
    "driver.execute_script(\"window.scrollTo(0, document.body.scrollHeight);\")\n",
    "\n",
    "# 여러개의 엘리먼트 얻기\n",
    "prod_infos = driver.find_elements(By.CLASS_NAME, value ='prod_main_info')\n"
   ]
  },
  {
   "cell_type": "markdown",
   "id": "42ff8b77-1107-401b-a3ba-4cf65963b261",
   "metadata": {},
   "source": [
    "## 페이지에서 상품정보 뺴기"
   ]
  },
  {
   "cell_type": "code",
   "execution_count": 104,
   "id": "13eca0ee-6ede-402b-ab55-b6f29280fa9d",
   "metadata": {
    "collapsed": true,
    "jupyter": {
     "outputs_hidden": true
    },
    "tags": []
   },
   "outputs": [
    {
     "data": {
      "text/plain": [
       "[{'title': '에이서 프레데터 Helios 18 PH18-71 4080',\n",
       "  'spec': '노트북 / 운영체제(OS): 미포함(프리도스) /\\n화면정보 45.72cm(18인치) / 2560x1600(WQXGA) / 500nit / 주사율: 240Hz /\\nCPU 인텔 / 코어i9-13세대 / i9-13900HX (2.2GHz) / 24코어(8P+16E) /\\n램 DDR5 / 램 용량: 32GB / 4800MHz / 램 교체: 가능 /\\n그래픽 외장그래픽 / RTX4080 / TGP: 175W / VRAM:12GB / 논 옵티머스 /\\n저장장치 M.2(NVMe) / 1TB / 저장 슬롯: 2개 /\\n네트워크 무선랜: 802.11ax(Wi-Fi 6E) / 유선랜: 기가비트 /\\n영상입출력 HDMI 2.1 / 웹캠(FHD) /\\n단자 썬더볼트4: 2개(USB-C겸용) / USB-A: 3개 / MicroSD카드 /\\n부가기능 USB-PD /\\n입력장치 RGB 라이트 / ㅗ형 방향키 / 숫자 키패드(4열) /\\n파워 배터리: 90Wh / 어댑터: 330W / 충전단자: DC /\\n주요제원 두께: 29.15mm / 무게: 3.16kg / 쿨링팬: 2개 / 색상: 블랙',\n",
       "  'price': [('SSD 1TB', '3,790,000원 가격정보 더보기')]},\n",
       " {'title': 'HP 오멘 16-n0094AX',\n",
       "  'spec': '노트북 / 운영체제(OS): 윈도우11홈 /\\n화면정보 40.9cm(16.1인치) / 2560x1440(QHD) / 300nit / 주사율: 165Hz /\\nCPU AMD / 라이젠7-5세대 / 6800H (3.2GHz) / 옥타(8)코어 /\\n램 DDR5 / 램 용량: 16GB / 4800MHz / 램 교체: 가능 /\\n그래픽 외장그래픽 / RTX3070 Ti / TGP: 150W / VRAM:8GB / 논 옵티머스 /\\n저장장치 M.2(NVMe) / 512GB /\\n네트워크 무선랜: 802.11ax(Wi-Fi 6E) / 유선랜: 기가비트 /\\n영상입출력 HDMI 2.1 / 웹캠(HD) /\\n단자 USB-C: 2개 / USB-A: 3개 / SD카드 /\\n부가기능 고속충전 / USB-PD / DP Alt Mode /\\n입력장치 RGB 라이트 / ㅗ형 방향키 / 표준 텐키리스 /\\n파워 배터리: 83Wh / 어댑터: 280W / 충전단자: DC /\\n주요제원 두께: 23mm / 무게: 2.35kg / 쿨링팬: 2개 / 색상: 블랙',\n",
       "  'price': [('1위 SSD 512GB', '1,698,000원 가격정보 더보기'),\n",
       "   ('2위 SSD 1TB', '1,780,000원 가격정보 더보기'),\n",
       "   ('SSD 2TB', '1,980,000원 가격정보 더보기')]},\n",
       " {'title': 'MSI Stealth 17M A12UE',\n",
       "  'spec': '노트북 / 운영체제(OS): 미포함(프리도스) /\\n화면정보 43.9cm(17.3인치) / 1920x1080(FHD) / 250nit / 주사율: 144Hz /\\nCPU 인텔 / 코어i7-12세대 / i7-1280P (1.8GHz) / 14코어(6P+8E) /\\n램 DDR4 / 램 용량: 16GB / 3200MHz / 램 교체: 가능 /\\n그래픽 외장그래픽 / RTX3060 / TGP: 75W / VRAM:6GB /\\n저장장치 M.2(NVMe) / 512GB /\\n네트워크 무선랜: 802.11ax(Wi-Fi 6) /\\n영상입출력 HDMI / 웹캠(HD) /\\n단자 USB-C: 1개 / USB-A: 2개 /\\n부가기능 DP Alt Mode /\\n입력장치 키보드 라이트 / ㅗ형 방향키 / 숫자 키패드(4열) /\\n파워 배터리: 65Wh / 어댑터: 180W / 충전단자: DC /\\n주요제원 두께: 21.55mm / 무게: 2.2kg / 색상: 블랙',\n",
       "  'price': [('1위 SSD 512GB', '1,288,000원 가격정보 더보기'),\n",
       "   ('2위 SSD 1TB', '1,305,360원 가격정보 더보기'),\n",
       "   ('SSD 2TB', '1,505,000원 가격정보 더보기')]},\n",
       " {'title': 'LG전자 2023 그램16 16ZD90R-GX56K WIN11',\n",
       "  'spec': '노트북 / 운영체제(OS): 윈도우11(설치) /\\n화면정보 40.6cm(16인치) / 2560x1600(WQXGA) / 350nit /\\nCPU 인텔 / 코어i5-13세대 / i5-1340P (1.9GHz) / 12코어(4P+8E) /\\n램 LPDDR5(온보드) / 램 용량: 16GB / 6000MHz / 램 교체: 불가능 /\\n그래픽 내장그래픽 / Iris Xe /\\n저장장치 M.2(NVMe) / 256GB / 저장 슬롯: 2개 /\\n네트워크 무선랜: 802.11ax(Wi-Fi 6E) /\\n영상입출력 HDMI / 웹캠(FHD) /\\n단자 썬더볼트4: 2개(USB-C겸용) / USB-A: 2개 / MicroSD카드 /\\n부가기능 얼굴 인식 / USB-PD / MIL-STD /\\n입력장치 키보드 라이트 / ㅗ형 방향키 / 숫자 키패드(3열) /\\n파워 배터리: 80Wh / 어댑터: 65W / 충전단자: 타입C /\\n주요제원 두께: 16.8mm / 무게: 1.199kg / 색상: 화이트',\n",
       "  'price': [('2위 SSD 256GB', '1,497,850원 가격정보 더보기'),\n",
       "   ('1위 SSD 512GB', '1,600,000원 가격정보 더보기'),\n",
       "   ('SSD 1TB', '1,620,970원 가격정보 더보기'),\n",
       "   ('SSD 2TB', '1,673,950원 가격정보 더보기'),\n",
       "   ('SSD 3TB', '2,000,000원 가격정보 더보기'),\n",
       "   ('', ''),\n",
       "   ('', ''),\n",
       "   ('', ''),\n",
       "   ('', ''),\n",
       "   ('', ''),\n",
       "   ('', ''),\n",
       "   ('', ''),\n",
       "   ('', ''),\n",
       "   ('', '')]},\n",
       " {'title': 'MSI GF시리즈 Sword GF76 B12VEK WIN11 32GB램',\n",
       "  'spec': '노트북 / 운영체제(OS): 윈도우11(설치) /\\n화면정보 43.9cm(17.3인치) / 1920x1080(FHD) / 250nit / 주사율: 144Hz /\\nCPU 인텔 / 코어i7-12세대 / i7-12650H (2.3GHz) / 10코어(6P+4E) /\\n램 DDR5 / 램 용량: 32GB / 4800MHz / 램 교체: 가능 /\\n그래픽 외장그래픽 / RTX4050 / TGP: 105W / VRAM:6GB / MUX 스위치 /\\n저장장치 M.2(NVMe) / 512GB / 저장 슬롯: 2개 /\\n네트워크 무선랜: 802.11ax(Wi-Fi 6) / 유선랜: 기가비트 /\\n영상입출력 HDMI / 웹캠(HD) /\\n단자 USB-C: 1개 / USB-A: 3개 /\\n부가기능 DP Alt Mode /\\n입력장치 RGB 라이트 / ㅗ형 방향키 / 숫자 키패드(3열) /\\n파워 배터리: 53.5Wh / 충전단자: DC /\\n주요제원 두께: 25.2mm / 무게: 2.6kg / 쿨링팬: 2개 / 색상: 블랙',\n",
       "  'price': [('1위 SSD 512GB', '1,415,280원 가격정보 더보기'),\n",
       "   ('2위 SSD 1TB', '1,493,840원 가격정보 더보기'),\n",
       "   ('SSD 2TB', '1,596,840원 가격정보 더보기'),\n",
       "   ('SSD 250GB + SSD 512GB', '1,550,000원 가격정보 더보기'),\n",
       "   ('SSD 500GB + SSD 512GB', '1,585,000원 가격정보 더보기'),\n",
       "   ('', ''),\n",
       "   ('', '')]},\n",
       " {'title': 'ASUS 비보북 프로 15X OLED M6501RM-MA029',\n",
       "  'spec': '노트북 / 운영체제(OS): 미포함(프리도스) /\\n화면정보 39.62cm(15.6인치) / 2880x1620 / 600nit / 주사율: 120Hz /\\nCPU AMD / 라이젠7-5세대 / 6800H (3.2GHz) / 옥타(8)코어 /\\n램 DDR5 / 램 용량: 16GB / 램 교체: 가능(1슬롯) /\\n그래픽 외장그래픽 / RTX3060 / VRAM:6GB /\\n저장장치 M.2(NVMe) / 512GB / 저장 슬롯: 2개 /\\n네트워크 무선랜: 802.11ax(Wi-Fi 6E) / 유선랜: 기가비트 /\\n영상입출력 HDMI 2.1 / 웹캠(FHD) /\\n단자 USB-C: 2개 / USB-A: 2개 / MicroSD카드 /\\n부가기능 지문인식(전원버튼) / 웹캠OFF 지원 / 고속충전 / USB-PD / DP Alt Mode /\\n입력장치 키보드 라이트 / ㅗ형 방향키 / 숫자 키패드(3열) /\\n파워 배터리: 76Wh / 어댑터: 240W / 충전단자: DC /\\n주요제원 두께: 20.9mm / 무게: 2.1kg / 쿨링팬: 2개 / 색상: 블랙',\n",
       "  'price': [('1위 SSD 512GB', '1,548,990원 가격정보 더보기'),\n",
       "   ('2위 SSD 1TB', '1,918,850원 가격정보 더보기'),\n",
       "   ('SSD 2TB', '2,088,850원 가격정보 더보기')]},\n",
       " {'title': 'MSI GF시리즈 Thin GF63 12VE-i5 16GB램',\n",
       "  'spec': '노트북 / 운영체제(OS): 미포함(프리도스) /\\n화면정보 39.6cm(15.6인치) / 1920x1080(FHD) / 250nit / 주사율: 144Hz /\\nCPU 인텔 / 코어i5-12세대 / i5-12450H (2.0GHz) / 옥타코어(4P+4E) /\\n램 DDR4 / 램 용량: 16GB / 3200MHz / 램 교체: 가능 /\\n그래픽 외장그래픽 / RTX4050 / TGP: 45W / VRAM:6GB /\\n저장장치 M.2(NVMe) / 512GB / 저장 슬롯: 2개 /\\n네트워크 무선랜: 802.11ax(Wi-Fi 6) / 유선랜: 기가비트 /\\n영상입출력 HDMI / 웹캠(HD) /\\n단자 USB-C: 1개 / USB-A: 3개 /\\n부가기능 DP Alt Mode /\\n입력장치 키보드 라이트 / ㅗ형 방향키 /\\n파워 배터리: 52.4Wh / 어댑터: 120W / 충전단자: DC /\\n주요제원 두께: 21.7mm / 무게: 1.77kg / 색상: 블랙',\n",
       "  'price': [('1위 SSD 512GB', '1,062,110원 가격정보 더보기'),\n",
       "   ('2위 SSD 1TB', '1,101,270원 가격정보 더보기'),\n",
       "   ('SSD 2TB', '1,229,370원 가격정보 더보기'),\n",
       "   ('1TB + SSD 512GB', '1,290,000원 가격정보 더보기')]},\n",
       " {'title': 'APPLE 2023 맥북프로14 MPHH3KH/A',\n",
       "  'spec': '노트북 / 운영체제(OS): macOS Ventura /\\n화면정보 35.9cm(14.2인치) / 3024x1964 / 1000nit / 주사율: 120Hz /\\nCPU 애플(ARM) / 실리콘 M2 Pro / 10코어 /\\n램 램 용량: 16GB / 램 교체: 불가능 /\\n그래픽 내장그래픽 / M2 Pro 16core /\\n저장장치 SSD / 512GB /\\n네트워크 무선랜: 802.11ax(Wi-Fi 6E) /\\n영상입출력 HDMI / 웹캠(FHD) /\\n단자 썬더볼트4: 3개(USB-C겸용) / SD카드 /\\n부가기능 지문 인식 / 고속충전 / USB-PD / DP Alt Mode /\\n입력장치 키보드 라이트 / ㅗ형 방향키 /\\n파워 배터리: 70Wh / 어댑터: 67W / 충전단자: MagSafe 3 /\\n주요제원 두께: 15.5mm / 무게: 1.6kg / 색상: 실버 / 16코어 Neural Engine / 최대 200GB/s 메모리 대역폭 / 미디어 엔진 (디코딩+인코딩+ProRes) / 노치형 디스플레이 / 출시가: 2,790,000원',\n",
       "  'price': [('1위 16GB, SSD 512GB', '2,509,000원 가격정보 더보기'),\n",
       "   ('영문, 16GB, SSD 512GB', '2,511,000원 가격정보 더보기'),\n",
       "   ('2위 16GB, SSD 1TB', '2,781,000원 가격정보 더보기'),\n",
       "   ('32GB, SSD 512GB', '3,036,000원 가격정보 더보기'),\n",
       "   ('32GB, SSD 1TB', '3,321,000원 가격정보 더보기')]},\n",
       " {'title': 'MSI GP시리즈 Vector GP66 12UEO QHD OLED WIN11 32GB램',\n",
       "  'spec': '노트북 / 운영체제(OS): 윈도우11(설치) /\\n화면정보 39.6cm(15.6인치) / 2560x1440(QHD) / 400nit / 주사율: 240Hz /\\nCPU 인텔 / 코어i7-12세대 / i7-12650H (2.3GHz) / 10코어(6P+4E) /\\n램 DDR5 / 램 용량: 32GB / 4800MHz / 램 교체: 가능 /\\n그래픽 외장그래픽 / RTX3060 / TGP: 140W / VRAM:6GB / 논 옵티머스 /\\n저장장치 M.2(NVMe) / 512GB / 저장 슬롯: 2개 /\\n네트워크 무선랜: 802.11ax(Wi-Fi 6E) / 유선랜: 기가비트 /\\n영상입출력 HDMI / mini DP / 웹캠(HD) /\\n단자 USB-C: 1개 / USB-A: 3개 /\\n부가기능 DP Alt Mode /\\n입력장치 RGB 라이트 / ㅗ형 방향키 /\\n파워 배터리: 65Wh / 어댑터: 240W / 충전단자: DC /\\n주요제원 두께: 23.4mm / 무게: 2.38kg / 쿨링팬: 2개 / 색상: 블랙',\n",
       "  'price': [('1위 SSD 512GB', '1,358,650원 가격정보 더보기'),\n",
       "   ('2위 SSD 1TB', '1,468,260원 가격정보 더보기'),\n",
       "   ('SSD 2TB', '1,790,000원 가격정보 더보기'),\n",
       "   ('SSD 512GB + SSD 512GB', '1,719,000원 가격정보 더보기'),\n",
       "   ('SSD 1TB + SSD 512GB', '1,779,000원 가격정보 더보기'),\n",
       "   ('', '')]},\n",
       " {'title': 'MSI GP시리즈 Vector GP66 12UEO QHD OLED',\n",
       "  'spec': '노트북 / 운영체제(OS): 미포함(프리도스) /\\n화면정보 39.6cm(15.6인치) / 2560x1440(QHD) / 400nit / 주사율: 240Hz /\\nCPU 인텔 / 코어i7-12세대 / i7-12650H (2.3GHz) / 10코어(6P+4E) /\\n램 DDR5 / 램 용량: 8GB / 4800MHz / 램 교체: 가능 /\\n그래픽 외장그래픽 / RTX3060 / TGP: 140W / VRAM:6GB / 논 옵티머스 /\\n저장장치 M.2(NVMe) / 512GB / 저장 슬롯: 2개 /\\n네트워크 무선랜: 802.11ax(Wi-Fi 6E) / 유선랜: 기가비트 /\\n영상입출력 HDMI / mini DP / 웹캠(HD) /\\n단자 USB-C: 1개 / USB-A: 3개 /\\n부가기능 DP Alt Mode /\\n입력장치 RGB 라이트 / ㅗ형 방향키 /\\n파워 배터리: 65Wh / 어댑터: 240W / 충전단자: DC /\\n주요제원 두께: 23.4mm / 무게: 2.38kg / 쿨링팬: 2개 / 색상: 블랙',\n",
       "  'price': [('1위 SSD 512GB', '1,299,000원 가격정보 더보기'),\n",
       "   ('2위 SSD 1TB', '1,310,000원 가격정보 더보기'),\n",
       "   ('SSD 2TB', '1,498,990원 가격정보 더보기'),\n",
       "   ('SSD 500GB + SSD 512GB', '1,328,100원 가격정보 더보기'),\n",
       "   ('SSD 1TB + SSD 512GB', '1,290,000원 가격정보 더보기'),\n",
       "   ('', '')]},\n",
       " {'title': '삼성전자 갤럭시북3 프로 NT960XFG-K71A',\n",
       "  'spec': '노트북 / 운영체제(OS): 윈도우11홈 /\\n화면정보 40.6cm(16인치) / 2880x1800(WQXGA+) / 400nit / 주사율: 120Hz /\\nCPU 인텔 / 코어i7-13세대 / i7-1360P (2.2GHz) / 12코어(4P+8E) /\\n램 LPDDR5(온보드) / 램 용량: 16GB / 램 교체: 불가능 /\\n그래픽 내장그래픽 / Iris Xe /\\n저장장치 M.2(NVMe) / 512GB / 저장 슬롯: 2개 /\\n네트워크 무선랜: 802.11ax(Wi-Fi 6E) /\\n영상입출력 HDMI / 웹캠(FHD) /\\n단자 썬더볼트4: 2개(USB-C겸용) / USB-A: 1개 / MicroSD카드 /\\n부가기능 지문인식(전원버튼) / TPM / USB-PD / DP Alt Mode /\\n입력장치 키보드 라이트 / ㅗ형 방향키 / 숫자 키패드(3열) /\\n파워 배터리: 76Wh / 어댑터: 65W / 충전단자: 타입C /\\n주요제원 두께: 12.5mm / 무게: 1.56kg / 색상: 그라파이트',\n",
       "  'price': [('1위 SSD 512GB', '2,082,600원 가격정보 더보기'),\n",
       "   ('2위 SSD 1TB', '2,044,000원 가격정보 더보기'),\n",
       "   ('SSD 2TB', '2,114,010원 가격정보 더보기'),\n",
       "   ('SSD 3TB', '2,428,390원 가격정보 더보기'),\n",
       "   ('SSD 4TB', '2,537,040원 가격정보 더보기'),\n",
       "   ('', ''),\n",
       "   ('', ''),\n",
       "   ('', ''),\n",
       "   ('', ''),\n",
       "   ('', ''),\n",
       "   ('', ''),\n",
       "   ('', '')]},\n",
       " {'title': 'HP 오멘 17-ck1037TX 표준노트북',\n",
       "  'spec': '노트북 / 운영체제(OS): 윈도우11홈 /\\n화면정보 43.9cm(17.3인치) / 2560x1440(QHD) / 300nit / 주사율: 165Hz /\\nCPU 인텔 / 코어i7-12세대 / i7-12800HX (2.0GHz) / 16코어(8P+8E) /\\n램 DDR5 / 램 용량: 32GB / 4800MHz / 램 교체: 가능 /\\n그래픽 외장그래픽 / RTX3080 Ti / VRAM:16GB /\\n저장장치 M.2(NVMe) / 1TB /\\n네트워크 무선랜: 802.11ax(Wi-Fi 6E) / 유선랜: 기가비트 /\\n영상입출력 HDMI 2.1 / mini DP /\\n단자 썬더볼트4: 1개(USB-C겸용) / USB-A: 3개 / SD카드 /\\n부가기능 DP Alt Mode /\\n입력장치 기계식 키보드 / RGB 라이트 / ㅗ형 방향키 / 표준 텐키리스 /\\n파워 배터리: 83Wh / 어댑터: 330W / 충전단자: DC /\\n주요제원 두께: 27mm / 무게: 2.78kg / 쿨링팬: 2개 / 색상: 블랙',\n",
       "  'price': [('SSD 1TB', '2,590,000원 가격정보 더보기')]},\n",
       " {'title': '삼성전자 갤럭시북3 360 NT730QFG-KH51S',\n",
       "  'spec': '2 in 1 / 운영체제(OS): 윈도우11홈 /\\n화면정보 33.7cm(13.3인치) / 1920x1080(FHD) /\\nCPU 인텔 / 코어i5-13세대 / i5-1340P (1.9GHz) / 12코어(4P+8E) /\\n램 LPDDR4x(온보드) / 램 용량: 16GB / 램 교체: 불가능 /\\n그래픽 내장그래픽 / Iris Xe /\\n저장장치 M.2(NVMe) / 256GB / 저장 슬롯: 1개 /\\n네트워크 무선랜: 802.11ax(Wi-Fi 6E) /\\n영상입출력 HDMI / 웹캠(FHD) /\\n단자 썬더볼트4: 1개(USB-C겸용) / USB-C: 1개 / USB-A: 1개 / MicroSD카드 /\\n부가기능 지문인식(전원버튼) / TPM / 고속충전 / 전용 펜 지원 / USB-PD / DP Alt Mode /\\n입력장치 키보드 라이트 / ㅗ형 방향키 /\\n파워 배터리: 61.1Wh / 어댑터: 65W / 충전단자: 타입C /\\n주요제원 두께: 12.9mm / 무게: 1.16kg / 색상: 실버',\n",
       "  'price': [('1위 SSD 256GB', '1,656,980원 가격정보 더보기'),\n",
       "   ('SSD 500GB', '1,899,890원 가격정보 더보기'),\n",
       "   ('2위 SSD 1TB', '1,868,970원 가격정보 더보기')]},\n",
       " {'title': 'APPLE 2023 맥북프로16 MNW83KH/A',\n",
       "  'spec': '노트북 / 운영체제(OS): macOS Ventura /\\n화면정보 41.0cm(16.2인치) / 3456x2234 / 1000nit / 주사율: 120Hz /\\nCPU 애플(ARM) / 실리콘 M2 Pro / 12코어 /\\n램 램 용량: 16GB / 램 교체: 불가능 /\\n그래픽 내장그래픽 / M2 Pro 19core /\\n저장장치 SSD / 512GB /\\n네트워크 무선랜: 802.11ax(Wi-Fi 6E) /\\n영상입출력 HDMI / 웹캠(FHD) /\\n단자 썬더볼트4: 3개(USB-C겸용) / SD카드 /\\n부가기능 지문 인식 / 고속충전 / USB-PD / DP Alt Mode /\\n입력장치 키보드 라이트 / ㅗ형 방향키 /\\n파워 배터리: 100Wh / 어댑터: 140W / 충전단자: MagSafe 3 /\\n주요제원 두께: 16.8mm / 무게: 2.15kg / 색상: 그레이 / 16코어 Neural Engine / 최대 200GB/s 메모리 대역폭 / 미디어 엔진 (디코딩+인코딩+ProRes) / 노치형 디스플레이 / 출시가: 3,490,000원',\n",
       "  'price': [('1위 16GB, SSD 512GB', '3,122,990원 가격정보 더보기'),\n",
       "   ('영문, 16GB, SSD 512GB', '3,385,300원 가격정보 더보기'),\n",
       "   ('2위 32GB, SSD 512GB', '3,680,000원 가격정보 더보기'),\n",
       "   ('32GB, SSD 1TB', '4,300,000원 가격정보 더보기')]},\n",
       " {'title': '에이서 프레데터 Helios 16 PH16-71 4070',\n",
       "  'spec': '노트북 / 운영체제(OS): 미포함(프리도스) /\\n화면정보 40.8cm(16인치) / 2560x1600(WQXGA) / 500nit / 주사율: 240Hz /\\nCPU 인텔 / 코어i9-13세대 / i9-13900HX (2.2GHz) / 24코어(8P+16E) /\\n램 DDR5 / 램 용량: 16GB / 4800MHz / 램 교체: 가능 /\\n그래픽 외장그래픽 / RTX4070 / TGP: 140W / VRAM:8GB / 논 옵티머스 /\\n저장장치 M.2(NVMe) / 512GB / 저장 슬롯: 2개 /\\n네트워크 무선랜: 802.11ax(Wi-Fi 6E) / 유선랜: 기가비트 /\\n영상입출력 HDMI 2.1 / 웹캠(FHD) /\\n단자 썬더볼트4: 2개(USB-C겸용) / USB-A: 3개 / MicroSD카드 /\\n부가기능 USB-PD /\\n입력장치 RGB 라이트 / ㅗ형 방향키 / 숫자 키패드(4열) /\\n파워 배터리: 90Wh / 어댑터: 330W / 충전단자: DC /\\n주요제원 두께: 26.9mm / 무게: 2.6kg / 쿨링팬: 2개 / 색상: 블랙',\n",
       "  'price': [('SSD 512GB', '2,590,000원 가격정보 더보기')]},\n",
       " {'title': 'MSI GP시리즈 Vector GP68 HX 12VH-i9 QHD 이벤트',\n",
       "  'spec': '노트북 / 운영체제(OS): 미포함(프리도스) /\\n화면정보 40.6cm(16인치) / 2560x1600(WQXGA) / 500nit / 주사율: 240Hz /\\nCPU 인텔 / 코어i9-12세대 / i9-12900HX (2.3GHz) / 16코어(8P+8E) /\\n램 DDR5 / 램 용량: 16GB / 4800MHz / 램 교체: 가능 /\\n그래픽 외장그래픽 / RTX4080 / TGP: 165W / VRAM:12GB / MUX 스위치 /\\n저장장치 M.2(NVMe) / 1TB / 저장 슬롯: 2개 /\\n네트워크 무선랜: 802.11ax(Wi-Fi 6E) / 유선랜: 기가비트 /\\n영상입출력 HDMI / 웹캠(HD) /\\n단자 썬더볼트4: 1개(USB-C겸용) / USB-C: 2개 / USB-A: 2개 / SD카드 /\\n부가기능 얼굴 인식 / 웹캠OFF 지원 / USB-PD / DP Alt Mode /\\n입력장치 RGB 라이트 / ㅗ형 방향키 / 숫자 키패드(3열) /\\n파워 배터리: 90Wh / 어댑터: 330W / 충전단자: 전용포트 /\\n주요제원 두께: 28.55mm / 무게: 2.67kg / 쿨링팬: 2개 / 색상: 그레이',\n",
       "  'price': [('1위 SSD 1TB', '3,240,000원 가격정보 더보기'),\n",
       "   ('2위 SSD 2TB', '3,572,000원 가격정보 더보기'),\n",
       "   ('SSD 1TB + SSD 1TB', '3,572,000원 가격정보 더보기'),\n",
       "   ('SSD 2TB + SSD 1TB', '3,675,400원 가격정보 더보기')]},\n",
       " {'title': 'LG전자 2022 울트라PC 15UD50Q-GX50K',\n",
       "  'spec': '노트북 / 운영체제(OS): 미포함(프리도스) /\\n화면정보 39.6cm(15.6인치) / 1920x1080(FHD) /\\nCPU 인텔 / 코어i5-12세대 / i5-1240P (1.7GHz) / 12코어(4P+8E) /\\n램 DDR4 / 램 용량: 8GB / 3200MHz / 램 교체: 가능 /\\n그래픽 내장그래픽 / UHD Graphics /\\n저장장치 M.2(NVMe) / 256GB / 저장 슬롯: 2개 /\\n네트워크 무선랜: 802.11ax(Wi-Fi 6) / 유선랜: 기가비트 /\\n영상입출력 HDMI / 웹캠(HD) /\\n단자 USB-C: 1개 / USB-A: 2개 / MicroSD카드 /\\n입력장치 ㅗ형 방향키 / 숫자 키패드(3열) /\\n파워 배터리: 49Wh / 어댑터: 65W / 충전단자: DC /\\n주요제원 두께: 19.6mm / 무게: 1.8kg / 색상: 화이트',\n",
       "  'price': [('1위 SSD 256GB', '753,290원 가격정보 더보기'),\n",
       "   ('2위 SSD 500GB', '779,480원 가격정보 더보기'),\n",
       "   ('SSD 1TB', '802,040원 가격정보 더보기'),\n",
       "   ('SSD 2TB', '928,900원 가격정보 더보기'),\n",
       "   ('1TB + SSD 256GB', '836,640원 가격정보 더보기'),\n",
       "   ('', ''),\n",
       "   ('', '')]},\n",
       " {'title': '레노버 LEGION 5i Pro 16IAH I7 3060 32GB램',\n",
       "  'spec': '노트북 / 운영체제(OS): 미포함(프리도스) /\\n화면정보 40.6cm(16인치) / 2560x1600(WQXGA) / 500nit / 주사율: 165Hz /\\nCPU 인텔 / 코어i7-12세대 / i7-12700H (2.3GHz) / 14코어(6P+8E) /\\n램 DDR5 / 램 용량: 32GB / 4800MHz / 램 교체: 가능 /\\n그래픽 외장그래픽 / RTX3060 / TGP: 140W / VRAM:6GB / 논 옵티머스 /\\n저장장치 M.2(NVMe) / 512GB / 저장 슬롯: 2개 /\\n네트워크 무선랜: 802.11ax(Wi-Fi 6E) / 유선랜: 기가비트 /\\n영상입출력 HDMI 2.1 / 웹캠(HD) /\\n단자 썬더볼트4: 1개(USB-C겸용) / USB-C: 2개 / USB-A: 3개 /\\n부가기능 웹캠OFF 지원 / USB-PD / DP Alt Mode /\\n입력장치 RGB 라이트 / ㅗ형 방향키 / 숫자 키패드(4열) /\\n파워 배터리: 80Wh / 충전단자: 전용포트 /\\n주요제원 두께: 19.9mm / 무게: 2.49kg / 쿨링팬: 2개 / 색상: 그레이',\n",
       "  'price': [('2위 SSD 512GB', '1,759,000원 가격정보 더보기'),\n",
       "   ('1위 SSD 1TB', '1,799,000원 가격정보 더보기'),\n",
       "   ('SSD 2TB', '1,949,000원 가격정보 더보기'),\n",
       "   ('SSD 1TB + SSD 1TB', '1,919,000원 가격정보 더보기'),\n",
       "   ('SSD 2TB + SSD 2TB', '2,179,000원 가격정보 더보기')]},\n",
       " {'title': 'ASUS ROG STRIX G17 G713PV-LL053',\n",
       "  'spec': '노트북 / 운영체제(OS): 미포함(프리도스) /\\n화면정보 43.94cm(17.3인치) / 2560x1440(QHD) / 300nit / 주사율: 240Hz /\\nCPU AMD / 라이젠9(Zen4) / 7845HX (3.0Hz) / 12코어 /\\n램 DDR5 / 램 용량: 16GB / 4800MHz / 램 교체: 가능 /\\n그래픽 외장그래픽 / RTX4060 / TGP: 140W / VRAM:8GB / MUX 스위치 /\\n저장장치 M.2(NVMe) / 512GB / 저장 슬롯: 2개 /\\n네트워크 무선랜: 802.11ax(Wi-Fi 6E) / 유선랜: 기가비트 /\\n영상입출력 HDMI 2.1 / 웹캠(HD) /\\n단자 USB-C: 2개 / USB-A: 2개 /\\n부가기능 TPM / 고속충전 / USB-PD / DP Alt Mode /\\n입력장치 RGB 라이트 / ㅗ형 방향키 / 숫자 키패드(4열) /\\n파워 배터리: 90Wh / 어댑터: 280W / 충전단자: DC /\\n주요제원 두께: 30.08mm / 무게: 2.8kg / 쿨링팬: 2개 / 색상: 그레이',\n",
       "  'price': [('1위 SSD 512GB', '1,990,000원 가격정보 더보기'),\n",
       "   ('2위 SSD 1TB', '2,090,000원 가격정보 더보기'),\n",
       "   ('SSD 2TB', '2,190,000원 가격정보 더보기'),\n",
       "   ('SSD 500GB + SSD 512GB', '2,099,000원 가격정보 더보기'),\n",
       "   ('SSD 1TB + SSD 512GB', '2,340,000원 가격정보 더보기'),\n",
       "   ('', '')]},\n",
       " {'title': 'Razer Blade 16 13Gen R4070 4K Dual',\n",
       "  'spec': '노트북 / 운영체제(OS): 윈도우11홈 /\\n화면정보 40.8cm(16인치) / 3840x2400(4K UHD) / 1000nit / 주사율: 120Hz /\\nCPU 인텔 / 코어i9-13세대 / i9-13950HX (2.2GHz) / 24코어(8P+16E) /\\n램 DDR5 / 램 용량: 32GB / 5600MHz / 램 교체: 가능 /\\n그래픽 외장그래픽 / RTX4070 / TGP: 140W / VRAM:8GB /\\n저장장치 M.2(NVMe) / 1TB / 저장 슬롯: 2개 /\\n네트워크 무선랜: 802.11ax(Wi-Fi 6E) /\\n영상입출력 HDMI 2.1 / 웹캠(FHD) /\\n단자 썬더볼트4: 1개(USB-C겸용) / USB-C: 1개 / USB-A: 3개 / SD카드 /\\n부가기능 얼굴 인식 / TPM / 웹캠OFF 지원 / USB-PD /\\n입력장치 RGB 라이트 / ㅡ형 방향키 /\\n파워 배터리: 95.2Wh / 어댑터: 280W / 충전단자: 전용포트 /\\n주요제원 두께: 21.99mm / 무게: 2.45kg / 쿨링팬: 2개 / 색상: 블랙 / *특이사항: 해상도,주사율 변경 가능 (FHD/240Hz)',\n",
       "  'price': [('SSD 1TB', '4,890,000원 가격정보 더보기')]},\n",
       " {'title': 'MSI 프레스티지 15 A12UC',\n",
       "  'spec': '노트북 / 운영체제(OS): 미포함(프리도스) /\\n화면정보 39.6cm(15.6인치) / 1920x1080(FHD) / 300nit /\\nCPU 인텔 / 코어i7-12세대 / i7-1280P (1.8GHz) / 14코어(6P+8E) /\\n램 LPDDR4x(온보드) / 램 용량: 16GB / 램 교체: 불가능 /\\n그래픽 외장그래픽 / RTX3050 / TGP: 40W / VRAM:4GB /\\n저장장치 M.2(NVMe) / 512GB / 저장 슬롯: 2개 /\\n네트워크 무선랜: 802.11ax(Wi-Fi 6E) /\\n영상입출력 HDMI / 웹캠(HD) /\\n단자 썬더볼트4: 2개(USB-C겸용) / USB-A: 2개 / MicroSD카드 /\\n부가기능 얼굴 인식 / 지문 인식 / USB-PD / DP Alt Mode /\\n입력장치 키보드 라이트 / ㅗ형 방향키 /\\n파워 배터리: 82Wh / 어댑터: 100W / 충전단자: 타입C /\\n주요제원 두께: 18.9mm / 무게: 1.69kg / 쿨링팬: 2개 / 색상: 그레이',\n",
       "  'price': [('1위 SSD 512GB', '1,490,000원 가격정보 더보기'),\n",
       "   ('2위 SSD 1TB', '1,474,900원 가격정보 더보기'),\n",
       "   ('SSD 2TB', '1,698,990원 가격정보 더보기'),\n",
       "   ('SSD 512GB + SSD 512GB', '1,548,000원 가격정보 더보기'),\n",
       "   ('SSD 1TB + SSD 512GB', '1,599,000원 가격정보 더보기')]},\n",
       " {'title': '한성컴퓨터 TFG5275',\n",
       "  'spec': '노트북 / 운영체제(OS): 미포함(프리도스) /\\n화면정보 39.62cm(15.6인치) / 1920x1080(FHD) / 300nit / 주사율: 144Hz /\\nCPU 인텔 / 코어i7-12세대 / i7-12700H (2.3GHz) / 14코어(6P+8E) /\\n램 DDR4 / 램 용량: 16GB / 3200MHz / 램 교체: 가능 /\\n그래픽 외장그래픽 / RTX3050 / TGP: 75W / VRAM:4GB /\\n저장장치 M.2(NVMe) / 500GB / 저장 슬롯: 2개 /\\n네트워크 무선랜: 802.11ax(Wi-Fi 6) / 유선랜: 기가비트 /\\n영상입출력 HDMI 2.1 / mini DP / 웹캠(HD) /\\n단자 USB-C: 1개 / USB-A: 3개 /\\n입력장치 RGB 라이트 / ㅗ형 방향키 / 숫자 키패드(4열) /\\n파워 배터리: 53.35Wh / 어댑터: 150W / 충전단자: DC /\\n주요제원 두께: 26mm / 무게: 2kg / 색상: 블랙',\n",
       "  'price': [('1위 SSD 500GB', '1,158,000원 가격정보 더보기'),\n",
       "   ('2위 SSD 1TB', '1,278,000원 가격정보 더보기')]},\n",
       " {'title': '에이서 스위프트 X 14.5 OLED Studio SFX14-71G 4050',\n",
       "  'spec': '노트북 / 운영체제(OS): 미포함(프리도스) /\\n화면정보 36.8cm(14.5인치) / 2880x1800(WQXGA+) / 500nit / 주사율: 120Hz /\\nCPU 인텔 / 코어i7-13세대 / i7-13700H (2.4GHz) / 14코어(6P+8E) /\\n램 LPDDR5(온보드) / 램 용량: 16GB / 램 교체: 불가능 /\\n그래픽 외장그래픽 / RTX4050 / TGP: 50W / VRAM:6GB /\\n저장장치 M.2(NVMe) / 512GB / 저장 슬롯: 1개 /\\n네트워크 무선랜: 802.11ax(Wi-Fi 6E) /\\n영상입출력 HDMI 2.1 / 웹캠(FHD) /\\n단자 썬더볼트4: 2개(USB-C겸용) / USB-A: 2개 / MicroSD카드 /\\n부가기능 지문인식(전원버튼) / USB-PD / DP Alt Mode /\\n입력장치 키보드 라이트 / ㅡ형 방향키 /\\n파워 배터리: 76Wh / 어댑터: 100W / 충전단자: 타입C /\\n주요제원 두께: 17.9mm / 무게: 1.55kg / 쿨링팬: 1개 / 색상: 그레이',\n",
       "  'price': [('SSD 512GB', '1,698,990원 가격정보 더보기')]},\n",
       " {'title': 'MSI GP시리즈 Vector GP77 13VF QHD WIN11 64GB램',\n",
       "  'spec': '노트북 / 운영체제(OS): 윈도우11(설치) /\\n화면정보 43.9cm(17.3인치) / 2560x1440(QHD) / 500nit / 주사율: 240Hz /\\nCPU 인텔 / 코어i7-13세대 / i7-13700H (2.4GHz) / 14코어(6P+8E) /\\n램 DDR5 / 램 용량: 64GB / 램 교체: 가능 /\\n그래픽 외장그래픽 / RTX4060 / TGP: 140W / VRAM:8GB / MUX 스위치 /\\n저장장치 M.2(NVMe) / 512GB / 저장 슬롯: 2개 /\\n네트워크 무선랜: 802.11ax(Wi-Fi 6E) / 유선랜: 기가비트 /\\n영상입출력 HDMI / mini DP / 웹캠(HD) /\\n단자 USB-C: 1개 / USB-A: 3개 /\\n부가기능 USB-PD / DP Alt Mode /\\n입력장치 RGB 라이트 / ㅗ형 방향키 / 숫자 키패드(4열) /\\n파워 배터리: 65Wh / 어댑터: 240W / 충전단자: 전용포트 /\\n주요제원 두께: 25.9mm / 무게: 2.8kg / 쿨링팬: 2개 / 색상: 블랙',\n",
       "  'price': [('2위 SSD 512GB', '2,398,930원 가격정보 더보기'),\n",
       "   ('1위 SSD 1TB', '2,498,790원 가격정보 더보기'),\n",
       "   ('SSD 2TB', '2,628,930원 가격정보 더보기'),\n",
       "   ('SSD 4TB', '2,820,000원 가격정보 더보기')]},\n",
       " {'title': 'ASUS ROG SCAR G634JY-NM001W',\n",
       "  'spec': '노트북 / 운영체제(OS): 윈도우11홈 /\\n화면정보 40.8cm(16인치) / 2560x1600(WQXGA) / 1100nit / 주사율: 240Hz /\\nCPU 인텔 / 코어i9-13세대 / i9-13980HX (2.2GHz) / 24코어(8P+16E) /\\n램 DDR5 / 램 용량: 32GB / 4800MHz / 램 교체: 가능 /\\n그래픽 외장그래픽 / RTX4090 / TGP: 175W / VRAM:16GB / MUX 스위치 /\\n저장장치 M.2(NVMe) / 2TB / 저장 슬롯: 2개 /\\n네트워크 무선랜: 802.11ax(Wi-Fi 6E) / 유선랜: 2.5기가비트 /\\n영상입출력 HDMI 2.1 / 웹캠(HD) /\\n단자 썬더볼트4: 1개(USB-C겸용) / USB-C: 1개 / USB-A: 2개 /\\n부가기능 TPM / 고속충전 / USB-PD / DP Alt Mode /\\n입력장치 RGB 라이트 / ㅗ형 방향키 /\\n파워 배터리: 90Wh / 어댑터: 330W / 충전단자: DC /\\n주요제원 두께: 30.4mm / 무게: 2.5kg / 쿨링팬: 3개 / 색상: 블랙',\n",
       "  'price': [('SSD 1TB + SSD 1TB', '5,289,580원 가격정보 더보기')]},\n",
       " {'title': '한성컴퓨터 올데이롱 TFX6270H',\n",
       "  'spec': '노트북 / 운영체제(OS): 미포함(프리도스) /\\n화면정보 40.64cm(16인치) / 2560x1600(WQXGA) / 300nit / 주사율: 90Hz /\\nCPU 인텔 / 코어i7-12세대 / i7-12700H (2.3GHz) / 14코어(6P+8E) /\\n램 DDR4 / 램 용량: 16GB / 3200MHz / 램 교체: 가능 /\\n그래픽 내장그래픽 / Iris Xe /\\n저장장치 M.2(NVMe) / 500GB / 저장 슬롯: 2개 /\\n네트워크 무선랜: 802.11ax(Wi-Fi 6) /\\n영상입출력 HDMI 2.0 / 웹캠(HD) /\\n단자 썬더볼트4: 1개(USB-C겸용) / USB-C: 1개 / USB-A: 2개 / SD카드 /\\n부가기능 얼굴 인식 / USB-PD / DP Alt Mode /\\n입력장치 키보드 라이트 / ㅗ형 방향키 / 숫자 키패드(3열) /\\n파워 배터리: 82.04Wh / 어댑터: 90W / 충전단자: DC /\\n주요제원 두께: 19mm / 무게: 1.46kg / 쿨링팬: 2개 / 색상: 블랙',\n",
       "  'price': [('1위 SSD 500GB', '1,275,000원 가격정보 더보기'),\n",
       "   ('2위 SSD 1TB', '1,390,000원 가격정보 더보기')]},\n",
       " {'title': '레노버 요가 Slim7 Pro 14IAP7 82SV0058KR',\n",
       "  'spec': '노트북 / 운영체제(OS): 미포함(프리도스) /\\n화면정보 35.56cm(14인치) / 2880x1800(WQXGA+) / 400nit / 주사율: 90Hz /\\nCPU 인텔 / 코어i5-12세대 / i5-1240P (1.7GHz) / 12코어(4P+8E) /\\n램 LPDDR5(온보드) / 램 용량: 16GB / 4800MHz / 램 교체: 불가능 /\\n그래픽 내장그래픽 / Iris Xe /\\n저장장치 M.2(NVMe) / 512GB / 저장 슬롯: 1개 /\\n네트워크 무선랜: 802.11ax(Wi-Fi 6E) /\\n영상입출력 웹캠(FHD) /\\n단자 썬더볼트4: 2개(USB-C겸용) / USB-A: 1개 /\\n부가기능 얼굴 인식 / 웹캠OFF 지원 / 고속충전 / USB-PD / DP Alt Mode /\\n입력장치 키보드 라이트 / ㅡ형 방향키 /\\n파워 배터리: 61Wh / 충전단자: 타입C /\\n주요제원 두께: 14.6mm / 무게: 1.32kg / 색상: 그레이',\n",
       "  'price': [('1위 SSD 512GB', '1,289,000원 가격정보 더보기'),\n",
       "   ('2위 리퍼비시', '1,158,900원 가격정보 더보기')]},\n",
       " {'title': '에이서 스위프트 GO 16 OLED SFG16-71-77FT',\n",
       "  'spec': '노트북 / 운영체제(OS): 윈도우11홈 /\\n화면정보 40.8cm(16인치) / 3200x2000(WQHD+) / 500nit / 주사율: 120Hz /\\nCPU 인텔 / 코어i7-13세대 / i7-13700H (2.4GHz) / 14코어(6P+8E) /\\n램 LPDDR5(온보드) / 램 용량: 16GB / 램 교체: 불가능 /\\n그래픽 내장그래픽 / Iris Xe /\\n저장장치 M.2(NVMe) / 512GB / 저장 슬롯: 2개 /\\n네트워크 무선랜: 802.11ax(Wi-Fi 6E) /\\n영상입출력 HDMI 2.1 / 웹캠(QHD) /\\n단자 썬더볼트4: 2개(USB-C겸용) / USB-A: 2개 / MicroSD카드 /\\n부가기능 지문인식(전원버튼) /\\n입력장치 키보드 라이트 / ㅡ형 방향키 / 숫자 키패드(3열) /\\n파워 배터리: 65Wh / 어댑터: 100W / 충전단자: 타입C /\\n주요제원 두께: 14.9mm / 무게: 1.64kg / 쿨링팬: 2개 / 색상: 그레이',\n",
       "  'price': [('SSD 512GB', '1,398,990원 가격정보 더보기')]},\n",
       " {'title': 'Razer Blade 18 13Gen R4090 QHD',\n",
       "  'spec': '노트북 / 운영체제(OS): 윈도우11홈 /\\n화면정보 45.72cm(18인치) / 2560x1600(WQXGA) / 500nit / 주사율: 240Hz /\\nCPU 인텔 / 코어i9-13세대 / i9-13950HX (2.2GHz) / 24코어(8P+16E) /\\n램 DDR5 / 램 용량: 32GB / 5600MHz / 램 교체: 가능 /\\n그래픽 외장그래픽 / RTX4090 / TGP: 175W / VRAM:16GB /\\n저장장치 M.2(NVMe) / 2TB / 저장 슬롯: 2개 /\\n네트워크 무선랜: 802.11ax(Wi-Fi 6E) / 유선랜: 2.5기가비트 /\\n영상입출력 HDMI 2.1 / 웹캠(FHD) /\\n단자 썬더볼트4: 1개(USB-C겸용) / USB-C: 1개 / USB-A: 3개 / SD카드 /\\n부가기능 얼굴 인식 / TPM / USB-PD /\\n입력장치 RGB 라이트 / ㅡ형 방향키 /\\n파워 배터리: 91.7Wh / 어댑터: 330W / 충전단자: 전용포트 /\\n주요제원 두께: 21.99mm / 무게: 3.2kg / 쿨링팬: 3개 / 색상: 블랙',\n",
       "  'price': [('SSD 1TB + SSD 1TB', '6,590,000원 가격정보 더보기')]},\n",
       " {'title': 'ASUS 젠북 14X OLED UX3404VA-M9093 표준노트북',\n",
       "  'spec': '노트북 / 운영체제(OS): 미포함(프리도스) /\\n화면정보 36.8cm(14.5인치) / 2880x1800(WQXGA+) / 600nit / 주사율: 120Hz /\\nCPU 인텔 / 코어i5-13세대 / i5-13500H (2.6GHz) / 12코어(4P+8E) /\\n램 LPDDR5(온보드) / 램 용량: 16GB / 램 교체: 불가능 /\\n그래픽 내장그래픽 / Iris Xe /\\n저장장치 M.2(NVMe) / 512GB /\\n네트워크 무선랜: 802.11ax(Wi-Fi 6E) /\\n영상입출력 HDMI 2.1 / 웹캠(FHD) /\\n단자 썬더볼트4: 2개(USB-C겸용) / USB-A: 1개 /\\n부가기능 얼굴 인식 / 고속충전 / USB-PD / DP Alt Mode / MIL-STD /\\n입력장치 키보드 라이트 / ㅗ형 방향키 /\\n파워 배터리: 70Wh / 어댑터: 90W / 충전단자: 타입C /\\n주요제원 두께: 16.9mm / 무게: 1.56kg / 쿨링팬: 1개 / 색상: 베이지',\n",
       "  'price': [('1위 SSD 512GB', '1,449,000원 가격정보 더보기'),\n",
       "   ('2위 SSD 1TB', '1,599,000원 가격정보 더보기'),\n",
       "   ('SSD 2TB', '1,749,000원 가격정보 더보기')]},\n",
       " {'title': 'MSI GP시리즈 Vector GP76 12UGS QHD',\n",
       "  'spec': '노트북 / 운영체제(OS): 미포함(프리도스) /\\n화면정보 43.9cm(17.3인치) / 2560x1440(QHD) / 500nit / 주사율: 240Hz /\\nCPU 인텔 / 코어i7-12세대 / i7-12700H (2.3GHz) / 14코어(6P+8E) /\\n램 DDR4 / 램 용량: 16GB / 3200MHz / 램 교체: 가능 /\\n그래픽 외장그래픽 / RTX3070 Ti / TGP: 150W / VRAM:8GB / 논 옵티머스 /\\n저장장치 M.2(NVMe) / 1TB / 저장 슬롯: 2개 /\\n네트워크 무선랜: 802.11ax(Wi-Fi 6E) / 유선랜: 기가비트 /\\n영상입출력 HDMI / mini DP / 웹캠(HD) /\\n단자 USB-C: 1개 / USB-A: 3개 /\\n부가기능 DP Alt Mode /\\n입력장치 RGB 라이트 / ㅗ형 방향키 / 숫자 키패드(4열) /\\n파워 배터리: 65Wh / 어댑터: 280W / 충전단자: DC /\\n주요제원 두께: 25.9mm / 무게: 2.9kg / 색상: 블랙',\n",
       "  'price': [('1위 SSD 1TB', '2,640,000원 가격정보 더보기'),\n",
       "   ('SSD 2TB', '2,770,000원 가격정보 더보기'),\n",
       "   ('2위 SSD 1TB + SSD 1TB', '2,750,000원 가격정보 더보기')]},\n",
       " {'title': '한성컴퓨터 올데이롱 TFX4270H',\n",
       "  'spec': '노트북 / 운영체제(OS): 미포함(프리도스) /\\n화면정보 35.56cm(14인치) / 1920x1200(WUXGA) / 300nit /\\nCPU 인텔 / 코어i7-12세대 / i7-12700H (2.3GHz) / 14코어(6P+8E) /\\n램 DDR4 / 램 용량: 16GB / 3200MHz / 램 교체: 가능 /\\n그래픽 내장그래픽 / Iris Xe /\\n저장장치 M.2(NVMe) / 500GB / 저장 슬롯: 1개 /\\n네트워크 무선랜: 802.11ax(Wi-Fi 6) /\\n영상입출력 HDMI 2.0 / 웹캠(HD) /\\n단자 썬더볼트4: 1개(USB-C겸용) / USB-C: 1개 / USB-A: 2개 / SD카드 /\\n부가기능 얼굴 인식 / USB-PD / DP Alt Mode /\\n입력장치 키보드 라이트 / ㅡ형 방향키 /\\n파워 배터리: 99.8Wh / 어댑터: 90W / 충전단자: DC /\\n주요제원 두께: 16mm / 무게: 1.2kg / 쿨링팬: 2개 / 색상: 블랙',\n",
       "  'price': [('1위 SSD 500GB', '1,148,990원 가격정보 더보기'),\n",
       "   ('2위 SSD 1TB', '1,260,000원 가격정보 더보기')]},\n",
       " {'title': '삼성전자 갤럭시북2 NT550XEZ-A58A WIN11 16GB램',\n",
       "  'spec': '노트북 / 운영체제(OS): 윈도우11(설치) /\\n화면정보 39.6cm(15.6인치) / 1920x1080(FHD) /\\nCPU 인텔 / 코어i5-12세대 / i5-1235U (1.3GHz) / 10코어(2P+8E) /\\n램 DDR4 / 램 용량: 16GB / 램 교체: 가능 /\\n그래픽 내장그래픽 / UHD Graphics /\\n저장장치 M.2(NVMe) / 256GB / 저장 슬롯: 2개 /\\n네트워크 무선랜: 802.11ax(Wi-Fi 6) / 유선랜: 기가비트 /\\n영상입출력 HDMI / 웹캠(HD) /\\n단자 USB-C: 2개 / USB-A: 2개 / MicroSD카드 /\\n부가기능 TPM / USB-PD /\\n입력장치 ㅗ형 방향키 / 숫자 키패드(3열) /\\n파워 배터리: 43Wh / 어댑터: 45W / 충전단자: 타입C /\\n주요제원 두께: 18.5mm / 무게: 1.8kg / 색상: 실버, 그라파이트',\n",
       "  'price': [('1위 SSD 256GB', '756,000원 가격정보 더보기'),\n",
       "   ('SSD 500GB', '810,000원 가격정보 더보기'),\n",
       "   ('2위 SSD 1TB', '854,000원 가격정보 더보기'),\n",
       "   ('SSD 2TB', '1,065,000원 가격정보 더보기'),\n",
       "   ('SSD 1TB + SSD 500GB', '1,173,000원 가격정보 더보기'),\n",
       "   ('', ''),\n",
       "   ('', ''),\n",
       "   ('', '')]},\n",
       " {'title': 'MSI GF시리즈 Sword GF76 A11UC 블랙',\n",
       "  'spec': '노트북 / 운영체제(OS): 미포함(프리도스) /\\n화면정보 43.94cm(17.3인치) / 1920x1080(FHD) / 250nit / 주사율: 144Hz /\\nCPU 인텔 / 코어i7-11세대 / i7-11800H (2.3GHz) / 옥타(8)코어 /\\n램 DDR4 / 램 용량: 8GB / 3200MHz / 램 교체: 가능 /\\n그래픽 외장그래픽 / RTX3050 / TGP: 60W / VRAM:4GB /\\n저장장치 M.2(NVMe) / 512GB /\\n네트워크 무선랜: 802.11ax(Wi-Fi 6) / 유선랜: 기가비트 /\\n영상입출력 HDMI / 웹캠(HD) /\\n단자 USB-C: 1개 / USB-A: 3개 /\\n부가기능\\n입력장치 키보드 라이트 / ㅗ형 방향키 / 숫자 키패드(3열) /\\n파워 배터리: 53.5Wh / 어댑터: 150W / 충전단자: DC /\\n주요제원 두께: 25.2mm / 무게: 2.6kg / 색상: 블랙',\n",
       "  'price': [('1위 SSD 512GB', '1,174,050원 가격정보 더보기'),\n",
       "   ('2위 SSD 1TB', '1,170,720원 가격정보 더보기'),\n",
       "   ('SSD 2TB', '1,440,000원 가격정보 더보기')]},\n",
       " {'title': 'MSI 브라보 15 B5ED-R7 32GB램',\n",
       "  'spec': '노트북 / 운영체제(OS): 미포함(프리도스) /\\n화면정보 39.6cm(15.6인치) / 1920x1080(FHD) / 250nit / 주사율: 144Hz /\\nCPU AMD / 라이젠7-4세대 / 5800H (3.2GHz) / 옥타(8)코어 /\\n램 DDR4 / 램 용량: 32GB / 3200MHz / 램 교체: 가능 /\\n그래픽 외장그래픽 / 라데온 RX 6500M / VRAM:4GB /\\n저장장치 M.2(NVMe) / 512GB /\\n네트워크 무선랜: 802.11ax(Wi-Fi 6E) / 유선랜: 기가비트 /\\n영상입출력 HDMI / 웹캠(HD) /\\n단자 USB-C: 1개 / USB-A: 3개 /\\n입력장치 키보드 라이트 / ㅗ형 방향키 / 숫자 키패드(3열) /\\n파워 배터리: 53.5Wh / 어댑터: 150W / 충전단자: DC /\\n주요제원 두께: 24.95mm / 무게: 2.35kg / 쿨링팬: 2개 / 색상: 블랙',\n",
       "  'price': [('2위 SSD 512GB', '1,061,100원 가격정보 더보기'),\n",
       "   ('SSD 1TB', '1,089,450원 가격정보 더보기'),\n",
       "   ('1위 SSD 2TB', '1,182,610원 가격정보 더보기')]},\n",
       " {'title': 'MSI 프레스티지 15 A12UC 4K',\n",
       "  'spec': '노트북 / 운영체제(OS): 미포함(프리도스) /\\n화면정보 39.6cm(15.6인치) / 3840x2160(4K UHD) / 400nit /\\nCPU 인텔 / 코어i7-12세대 / i7-1280P (1.8GHz) / 14코어(6P+8E) /\\n램 LPDDR4x(온보드) / 램 용량: 16GB / 램 교체: 불가능 /\\n그래픽 외장그래픽 / RTX3050 / TGP: 40W / VRAM:4GB /\\n저장장치 M.2(NVMe) / 512GB / 저장 슬롯: 2개 /\\n네트워크 무선랜: 802.11ax(Wi-Fi 6E) /\\n영상입출력 HDMI / 웹캠(HD) /\\n단자 썬더볼트4: 2개(USB-C겸용) / USB-A: 2개 / MicroSD카드 /\\n부가기능 얼굴 인식 / 지문 인식 / USB-PD / DP Alt Mode /\\n입력장치 키보드 라이트 / ㅗ형 방향키 /\\n파워 배터리: 82Wh / 어댑터: 100W / 충전단자: 타입C /\\n주요제원 두께: 18.9mm / 무게: 1.69kg / 쿨링팬: 2개 / 색상: 그레이',\n",
       "  'price': [('2위 SSD 512GB', '1,599,000원 가격정보 더보기'),\n",
       "   ('1위 SSD 1TB', '1,616,810원 가격정보 더보기'),\n",
       "   ('SSD 2TB', '1,778,990원 가격정보 더보기'),\n",
       "   ('SSD 512GB + SSD 512GB', '1,649,000원 가격정보 더보기'),\n",
       "   ('SSD 1TB + SSD 512GB', '1,699,000원 가격정보 더보기')]},\n",
       " {'title': '에이서 니트로 5 AN515-58-95P5',\n",
       "  'spec': '노트북 / 운영체제(OS): 윈도우11홈 /\\n화면정보 39.62cm(15.6인치) / 2560x1440(QHD) / 300nit / 주사율: 165Hz /\\nCPU 인텔 / 코어i9-12세대 / i9-12900H (2.5GHz) / 14코어(6P+8E) /\\n램 DDR5 / 램 용량: 16GB / 4800MHz / 램 교체: 가능 /\\n그래픽 외장그래픽 / RTX3060 / TGP: 140W / VRAM:6GB /\\n저장장치 M.2(NVMe) / 512GB / 저장 슬롯: 3개 /\\n네트워크 무선랜: 802.11ax(Wi-Fi 6) / 유선랜: 기가비트 /\\n영상입출력 HDMI 2.1 / 웹캠(HD) /\\n단자 썬더볼트4: 1개(USB-C겸용) / USB-A: 3개 /\\n부가기능 USB-PD /\\n입력장치 RGB 라이트 / ㅗ형 방향키 / 숫자 키패드(4열) /\\n파워 배터리: 57.5Wh / 어댑터: 230W / 충전단자: DC /\\n주요제원 두께: 26.9mm / 무게: 2.5kg / 쿨링팬: 2개 / 색상: 블랙',\n",
       "  'price': [('SSD 512GB', '1,840,000원 가격정보 더보기')]},\n",
       " {'title': '레노버 요가 Slim7 Carbon 14ACN6 82L0004YKR',\n",
       "  'spec': '노트북 / 운영체제(OS): 미포함(프리도스) /\\n화면정보 35.56cm(14인치) / 2880x1800(WQXGA+) / 600nit / 주사율: 90Hz /\\nCPU AMD / 라이젠7-4세대 / 5800U (1.9GHz) / 옥타(8)코어 /\\n램 LPDDR4x(온보드) / 램 용량: 16GB / 4266MHz / 램 교체: 불가능 /\\n그래픽 외장그래픽 / MX450 / VRAM:2GB /\\n저장장치 M.2(NVMe) / 1TB / 저장 슬롯: 1개 /\\n네트워크 무선랜: 802.11ax(Wi-Fi 6) /\\n영상입출력 웹캠(HD) /\\n단자 USB-C: 3개 /\\n부가기능 얼굴 인식 / 웹캠OFF 지원 / 고속충전 / USB-PD / DP Alt Mode / MIL-STD /\\n입력장치 키보드 라이트 / ㅡ형 방향키 /\\n파워 배터리: 61Wh / 충전단자: 타입C /\\n주요제원 두께: 14.9mm / 무게: 1.09kg / 색상: 그레이',\n",
       "  'price': [('1위 SSD 1TB', '1,240,000원 가격정보 더보기'),\n",
       "   ('2위 SSD 2TB', '1,590,000원 가격정보 더보기'),\n",
       "   ('리퍼비시', '1,118,000원 가격정보 더보기')]},\n",
       " {'title': '한성컴퓨터 TFX5550UC',\n",
       "  'spec': '노트북 / 운영체제(OS): 미포함(프리도스) /\\n화면정보 39.62cm(15.6인치) / 1920x1080(FHD) / 300nit /\\nCPU AMD / 라이젠5-4세대 / 5500U (2.1GHz) / 헥사(6)코어 /\\n램 DDR4 / 램 용량: 8GB / 3200MHz / 램 교체: 가능 /\\n그래픽 내장그래픽 / Radeon Graphics /\\n저장장치 M.2(NVMe) / 250GB / 저장 슬롯: 1개 /\\n네트워크 무선랜: 802.11ac(Wi-Fi 5) / 유선랜: 기가비트 /\\n영상입출력 HDMI / 웹캠(HD) /\\n단자 USB-C: 1개 / USB-A: 3개 / MicroSD카드 /\\n부가기능 USB-PD / DP Alt Mode /\\n입력장치 RGB 라이트 / ㅗ형 방향키 / 숫자 키패드(4열) /\\n파워 배터리: 49Wh / 어댑터: 65W / 충전단자: DC /\\n주요제원 두께: 20mm / 무게: 1.6kg / 색상: 블랙',\n",
       "  'price': [('1위 SSD 250GB', '583,260원 가격정보 더보기'),\n",
       "   ('2위 SSD 500GB', '790,000원 가격정보 더보기'),\n",
       "   ('SSD 1TB', '890,000원 가격정보 더보기')]},\n",
       " {'title': 'MSI GF시리즈 Sword GF76 B13VEK WIN11 32GB램',\n",
       "  'spec': '노트북 / 운영체제(OS): 윈도우11(설치) /\\n화면정보 43.9cm(17.3인치) / 1920x1080(FHD) / 250nit / 주사율: 144Hz /\\nCPU 인텔 / 코어i7-13세대 / i7-13620H (2.4GHz) / 10코어(6P+4E) /\\n램 DDR5 / 램 용량: 32GB / 램 교체: 가능 /\\n그래픽 외장그래픽 / RTX4050 / TGP: 105W / VRAM:6GB / MUX 스위치 /\\n저장장치 M.2(NVMe) / 512GB / 저장 슬롯: 2개 /\\n네트워크 무선랜: 802.11ax(Wi-Fi 6) / 유선랜: 기가비트 /\\n영상입출력 HDMI / 웹캠(HD) /\\n단자 USB-C: 1개 / USB-A: 3개 /\\n부가기능 DP Alt Mode /\\n입력장치 RGB 라이트 / ㅗ형 방향키 / 숫자 키패드(3열) /\\n파워 배터리: 53.5Wh / 충전단자: DC /\\n주요제원 두께: 25.2mm / 무게: 2.6kg / 쿨링팬: 2개 / 색상: 블랙',\n",
       "  'price': [('2위 SSD 512GB', '1,774,710원 가격정보 더보기'),\n",
       "   ('1위 SSD 1TB', '1,815,730원 가격정보 더보기'),\n",
       "   ('SSD 2TB', '1,920,510원 가격정보 더보기'),\n",
       "   ('SSD 500GB + SSD 512GB', '1,990,000원 가격정보 더보기')]}]"
      ]
     },
     "execution_count": 104,
     "metadata": {},
     "output_type": "execute_result"
    }
   ],
   "source": [
    "prod_infos = driver.find_elements(By.CLASS_NAME, value ='prod_main_info')\n",
    "\n",
    "# 순회하면서 정보 빼기\n",
    "result=[]\n",
    "for elem in prod_infos:\n",
    "    temp={}\n",
    "    \n",
    "    # 타이틀과 스펙 출력\n",
    "    title = elem.find_element(By.CLASS_NAME, value='prod_name')\n",
    "    spec = elem.find_element(By.CLASS_NAME, value ='spec_list')     \n",
    "    temp['title'] = title.text\n",
    "    temp['spec'] = spec.text\n",
    "    \n",
    "    tempList=[]\n",
    "    \n",
    "    # 옵션과 가격 출력\n",
    "    mem_list = elem.find_elements(By.CLASS_NAME, value='memory_sect')\n",
    "    price_list = elem.find_elements(By.CLASS_NAME, value='price_sect')           \n",
    "    for m,p in zip(mem_list, price_list):\n",
    "        tempList.append((m.text, p.text))\n",
    "    temp['price'] = tempList\n",
    "        \n",
    "    result.append(temp)\n",
    "    \n",
    "result\n",
    "    \n"
   ]
  },
  {
   "cell_type": "markdown",
   "id": "efc8cf21-938b-45e8-b02d-b0ecedc6bd80",
   "metadata": {},
   "source": [
    "## 다음페이지 가기"
   ]
  },
  {
   "cell_type": "code",
   "execution_count": 103,
   "id": "658cb249-75df-4143-8576-5f37e50d9fff",
   "metadata": {
    "tags": []
   },
   "outputs": [],
   "source": [
    "# 다음 페이지 가기\n",
    "elem = driver.find_element(By.CLASS_NAME, value='paging_number_wrap')\n",
    "elem = elem.find_element(By.LINK_TEXT, value='2')\n",
    "elem.click()\n"
   ]
  }
 ],
 "metadata": {
  "kernelspec": {
   "display_name": "Python 3 (ipykernel)",
   "language": "python",
   "name": "python3"
  },
  "language_info": {
   "codemirror_mode": {
    "name": "ipython",
    "version": 3
   },
   "file_extension": ".py",
   "mimetype": "text/x-python",
   "name": "python",
   "nbconvert_exporter": "python",
   "pygments_lexer": "ipython3",
   "version": "3.10.4"
  }
 },
 "nbformat": 4,
 "nbformat_minor": 5
}
