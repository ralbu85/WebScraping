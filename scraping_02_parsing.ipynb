{
 "cells": [
  {
   "cell_type": "markdown",
   "id": "1c62884f-024b-4a8a-ba67-cc50132eda5e",
   "metadata": {
    "tags": []
   },
   "source": [
    "## 파싱\n",
    "\n",
    "* html 문서의 구조를 이해한 뒤, 사용자가 원하는 태그에 들어있는 텍스트를 골라내는데 사용하는 방법\n",
    "* html 문서의 특성\n",
    "    * 태그로 구성되어 있다\n",
    "    * 태그 안에는 본문이 있다.\n",
    "    * 태그들을 그루핑할때는 class를 사용한다. (클래스는 중복이 가능하다)\n",
    "    * 태그에 유일한 이름을 붙일때는 id를 사용한다."
   ]
  },
  {
   "cell_type": "code",
   "execution_count": 17,
   "id": "2b1c011b-8f1c-4ecf-891f-0e27012b070a",
   "metadata": {},
   "outputs": [],
   "source": [
    "# bs4라는 큰 라이브러리에서\n",
    "# BeautifulSoup라는 모듈을 그대로 사용할 것이다.\n",
    "from bs4 import BeautifulSoup\n",
    "\n",
    "html = \"\"\"\n",
    "<html>\n",
    "  <head>\n",
    "    <title>My Webpage</title>\n",
    "  </head>\n",
    "  <body>\n",
    "    <h1>Welcome to my webpage</h1>\n",
    "    <div id=\"content\">\n",
    "      <p class=\"first\">This is a paragraph.</p>\n",
    "      <p class=\"second\">This is another paragraph.</p>\n",
    "      <p id=\"first_id\" class=\"first\">This is real paragraph.</p>\n",
    "      <p id=\"second_id\" class=\"second\">This is fake paragraph.</p>\n",
    "    </div>\n",
    "    <div>\n",
    "        <p> Hi Ho </p>\n",
    "        <p> Hi lu </p>\n",
    "    </div>\n",
    "  </body>\n",
    "</html>\n",
    "\"\"\"\n",
    "\n",
    "soup = BeautifulSoup(html, \"html.parser\") # html.parser는 디폴트값, html문서 형태이니 이 형태로 파싱하겠다."
   ]
  },
  {
   "cell_type": "markdown",
   "id": "866dd9e5-4b63-44ee-9eb7-31844b5491ea",
   "metadata": {},
   "source": [
    "## 파싱된 변수에서 원하는 데이터를 추려내기"
   ]
  },
  {
   "cell_type": "markdown",
   "id": "ebd72b50-0791-4270-a370-b0c74e61bed2",
   "metadata": {},
   "source": [
    "* 태그로 찾는방법\n",
    "    - find로 찾는 방법: 여러개의 태그중 첫번째 것만 리턴\n",
    "    - find_all: 매칭되는 모든 태그를 리스트에 저장\n",
    "* 클래스로 찾는방법\n",
    "* 아이디로 찾는방법"
   ]
  },
  {
   "cell_type": "code",
   "execution_count": 19,
   "id": "b054948e-79f7-420e-9034-caf13955fb9d",
   "metadata": {},
   "outputs": [
    {
     "data": {
      "text/plain": [
       "'Welcome to my webpage'"
      ]
     },
     "execution_count": 19,
     "metadata": {},
     "output_type": "execute_result"
    }
   ],
   "source": [
    "# h1 태그 내부의 텍스트 추출\n",
    "h1_tag = soup.find(\"h1\") # h1 태그를 가진 부분을 선택하고 싶다\n",
    "h1_tag.text\n",
    "# print(h1_tag.text)"
   ]
  },
  {
   "cell_type": "code",
   "execution_count": 20,
   "id": "a07002d1-245a-49cd-bf9f-03f5d05e5498",
   "metadata": {},
   "outputs": [
    {
     "name": "stdout",
     "output_type": "stream",
     "text": [
      "This is a paragraph.\n"
     ]
    }
   ],
   "source": [
    "# 첫 번째 p 태그 내부의 텍스트 추출\n",
    "p_tag = soup.find(\"p\") #본문에 태그가 여러개 있을때 find를 사용하면 첫번째 태그의 정보만 매칭되어 나온다.\n",
    "print(p_tag.text) "
   ]
  },
  {
   "cell_type": "code",
   "execution_count": 22,
   "id": "4dd01d1f-a986-4292-91a1-ac2569c3ac27",
   "metadata": {},
   "outputs": [
    {
     "name": "stdout",
     "output_type": "stream",
     "text": [
      "This is a paragraph.\n",
      "This is another paragraph.\n",
      "This is real paragraph.\n",
      "This is fake paragraph.\n",
      " Hi Ho \n",
      " Hi lu \n"
     ]
    }
   ],
   "source": [
    "# 모든 p 태그 내부의 텍스트 추출\n",
    "p_tags = soup.find_all(\"p\") \n",
    "# print(p_tags) # 본문의 p 태그를 가진 모든 부분이 리스트로 저장됨\n",
    "\n",
    "# 리스트에서 하나씩 반복하면서 본문의 내용을 출력\n",
    "for p_tag in p_tags: \n",
    "    print(p_tag.text) "
   ]
  },
  {
   "cell_type": "markdown",
   "id": "7268f439-a830-490a-b521-85d33843714c",
   "metadata": {},
   "source": [
    "## ID로 찾기"
   ]
  },
  {
   "cell_type": "code",
   "execution_count": 24,
   "id": "48a673cf-5d74-4f2a-8e76-9bb38fd6d2de",
   "metadata": {},
   "outputs": [
    {
     "data": {
      "text/plain": [
       "[<div id=\"content\">\n",
       " <p class=\"first\">This is a paragraph.</p>\n",
       " <p class=\"second\">This is another paragraph.</p>\n",
       " <p class=\"first\" id=\"first_id\">This is real paragraph.</p>\n",
       " <p class=\"second\" id=\"second_id\">This is fake paragraph.</p>\n",
       " </div>]"
      ]
     },
     "execution_count": 24,
     "metadata": {},
     "output_type": "execute_result"
    }
   ],
   "source": [
    "# id가 content인 div 태그 내부의 첫 번째 p 태그 내부의 텍스트 추출\n",
    "div_tag = soup.find_all(\"div\", {'id':\"content\"}) # div 태그에서 id가 content인 것을 고르고 싶다.\n",
    "# p_tag = div_tag.find(\"p\")\n",
    "# print(p_tag.text)\n",
    "div_tag"
   ]
  },
  {
   "cell_type": "code",
   "execution_count": 30,
   "id": "3c4652e8-bdc3-4311-a3cc-177fc151a413",
   "metadata": {},
   "outputs": [
    {
     "data": {
      "text/plain": [
       "[<p class=\"first\">This is a paragraph.</p>,\n",
       " <p class=\"second\">This is another paragraph.</p>,\n",
       " <p class=\"first\" id=\"first_id\">This is real paragraph.</p>,\n",
       " <p class=\"second\" id=\"second_id\">This is fake paragraph.</p>]"
      ]
     },
     "execution_count": 30,
     "metadata": {},
     "output_type": "execute_result"
    }
   ],
   "source": [
    "tag = div_tag[0] # 리스트의 첫번째값 빼옴\n",
    "tag # 파싱된 또하나의 웹문서로 봐도 됨.\n",
    "tag.find_all('p')"
   ]
  },
  {
   "cell_type": "code",
   "execution_count": 31,
   "id": "07325635-8307-4e28-a96f-c93603ab6f92",
   "metadata": {},
   "outputs": [
    {
     "name": "stdout",
     "output_type": "stream",
     "text": [
      "This is a paragraph.\n",
      "This is another paragraph.\n",
      "This is real paragraph.\n",
      "This is fake paragraph.\n"
     ]
    }
   ],
   "source": [
    "# id가 content인 div 태그 내부의 p를 가진 모든 태그들의 텍스트 추출\n",
    "div_tag = soup.find_all(\"div\", {\"id\": \"content\"})\n",
    "p_tag = div_tag[0].find_all(\"p\") # 위에서 골라진 태그의 부분에 대하여 다시한번 find_all을 실행할 수 있다.\n",
    "for i in p_tag:\n",
    "    print(i.text)"
   ]
  },
  {
   "cell_type": "markdown",
   "id": "04ad8d52-236f-418a-ba4c-3a92473d4784",
   "metadata": {},
   "source": [
    "## 클래스로 찾기"
   ]
  },
  {
   "cell_type": "code",
   "execution_count": 33,
   "id": "a15fb779-3e4a-47d3-afe5-439ebdccec3a",
   "metadata": {},
   "outputs": [
    {
     "name": "stdout",
     "output_type": "stream",
     "text": [
      "This is a paragraph.\n",
      "This is real paragraph.\n"
     ]
    }
   ],
   "source": [
    "first_class_tags = soup.find_all(\"p\",{'class':\"first\"})\n",
    "for t in first_class_tags:\n",
    "    print(t.text)"
   ]
  },
  {
   "cell_type": "code",
   "execution_count": 23,
   "id": "c73e80c0-978a-484c-8826-687ea3d52a5f",
   "metadata": {},
   "outputs": [
    {
     "name": "stdout",
     "output_type": "stream",
     "text": [
      "This is a paragraph.\n"
     ]
    }
   ],
   "source": [
    "# id가 content인 div 태그 내부의 p를 가진 모든 태그들의 텍스트 추출\n",
    "div_tag = soup.find(\"div\", {\"id\": \"content\"})\n",
    "p_tag = div_tag.find_all(\"p\",{\"class\": \"first\"})\n",
    "for i in p_tag:\n",
    "    print(i.text)"
   ]
  }
 ],
 "metadata": {
  "kernelspec": {
   "display_name": "Python 3 (ipykernel)",
   "language": "python",
   "name": "python3"
  },
  "language_info": {
   "codemirror_mode": {
    "name": "ipython",
    "version": 3
   },
   "file_extension": ".py",
   "mimetype": "text/x-python",
   "name": "python",
   "nbconvert_exporter": "python",
   "pygments_lexer": "ipython3",
   "version": "3.8.10"
  }
 },
 "nbformat": 4,
 "nbformat_minor": 5
}
